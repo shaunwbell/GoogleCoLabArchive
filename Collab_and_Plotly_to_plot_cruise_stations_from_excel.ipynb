{
 "cells": [
  {
   "cell_type": "markdown",
   "metadata": {
    "colab_type": "text",
    "id": "view-in-github"
   },
   "source": [
    "<a href=\"https://colab.research.google.com/github/shaunwbell/GoogleCoLabArchive/blob/main/Collab_and_Plotly_to_plot_cruise_stations_from_excel.ipynb\" target=\"_parent\"><img src=\"https://colab.research.google.com/assets/colab-badge.svg\" alt=\"Open In Colab\"/></a>"
   ]
  },
  {
   "cell_type": "markdown",
   "metadata": {
    "id": "LfParqIVDz8y"
   },
   "source": [
    "# Using Jupyter Notebooks for Geophysical Data Exploration\n",
    "\n",
    "First, some key references:\n",
    "+ conda a package manager alternative to PIP\n",
    "+ anaconda python - a prepackaged, scientific analysis oriented python distribution (comes with conda)\n",
    "\n",
    "These two products will enable you to fairly easily, create your own locally hosted jupyter-lab environment (assuming you have some basic familiarity with command line tools, linux/unix, and python)"
   ]
  },
  {
   "cell_type": "markdown",
   "metadata": {},
   "source": [
    "## Use Pandas to read in an excel file"
   ]
  },
  {
   "cell_type": "markdown",
   "metadata": {
    "id": "LF_ac2-jGCFt"
   },
   "source": [
    "So we have a file, lets ingest it and take a look at it"
   ]
  },
  {
   "cell_type": "code",
   "execution_count": 5,
   "metadata": {
    "id": "52JwyqKlFh2z"
   },
   "outputs": [],
   "source": [
    "import pandas as pd"
   ]
  },
  {
   "cell_type": "code",
   "execution_count": 6,
   "metadata": {
    "id": "p0yGFzZUF--X"
   },
   "outputs": [],
   "source": [
    "df = pd.read_excel('data/DY2103_sideopssummary.xlsx',sheet_name=0)"
   ]
  },
  {
   "cell_type": "code",
   "execution_count": 7,
   "metadata": {
    "colab": {
     "base_uri": "https://localhost:8080/",
     "height": 224
    },
    "id": "INYUvAkIGYFS",
    "outputId": "c12fa025-add6-407e-c0df-32b67c56264f"
   },
   "outputs": [
    {
     "output_type": "execute_result",
     "data": {
      "text/plain": [
       "     CTD #  Lat.          Lon.          Site Station Number  No. of Nutrients  \\\n",
       "88  CTD088  54.0  20.22  165.0  25.62   UBS4          s87h1               9.0   \n",
       "72  CTD072  54.0  21.58  165.0  55.41   UBW1          s71h1              11.0   \n",
       "14  CTD015  57.0  19.64  166.0  19.04  70M10          s15h1               7.0   \n",
       "6   CTD007  56.0  52.54  164.0   4.36    M2C           s7h1               7.0   \n",
       "77  CTD077  54.0  48.93  165.0  51.97   UBN2          s76h1               9.0   \n",
       "\n",
       "    Sal. Samples  O2 Samples  Chl Samples  Number of DIC  Gann Sample  \\\n",
       "88           0.0         0.0          6.0            9.0          0.0   \n",
       "72           0.0         1.0          6.0            0.0          1.0   \n",
       "14           1.0         1.0          6.0            0.0          0.0   \n",
       "6            1.0         7.0          6.0            7.0          0.0   \n",
       "77           0.0         1.0          6.0            1.0          0.0   \n",
       "\n",
       "    Abs. Sample  FCM Sample  Size Frac Chlor   Latitude   Longitude  \\\n",
       "88          0.0         1.0              1.0  54.337000 -165.427000   \n",
       "72          0.0         1.0              1.0  54.359667 -165.923500   \n",
       "14          0.0         1.0              1.0  57.327333 -166.317333   \n",
       "6           0.0         0.0              0.0  56.875667 -164.072667   \n",
       "77          0.0         1.0              1.0  54.815500 -165.866167   \n",
       "\n",
       "   Unnamed: 18  \n",
       "88           0  \n",
       "72           0  \n",
       "14           0  \n",
       "6            0  \n",
       "77           0  "
      ],
      "text/html": "<div>\n<style scoped>\n    .dataframe tbody tr th:only-of-type {\n        vertical-align: middle;\n    }\n\n    .dataframe tbody tr th {\n        vertical-align: top;\n    }\n\n    .dataframe thead th {\n        text-align: right;\n    }\n</style>\n<table border=\"1\" class=\"dataframe\">\n  <thead>\n    <tr style=\"text-align: right;\">\n      <th></th>\n      <th>CTD #</th>\n      <th>Lat.</th>\n      <th></th>\n      <th>Lon.</th>\n      <th></th>\n      <th>Site</th>\n      <th>Station Number</th>\n      <th>No. of Nutrients</th>\n      <th>Sal. Samples</th>\n      <th>O2 Samples</th>\n      <th>Chl Samples</th>\n      <th>Number of DIC</th>\n      <th>Gann Sample</th>\n      <th>Abs. Sample</th>\n      <th>FCM Sample</th>\n      <th>Size Frac Chlor</th>\n      <th>Latitude</th>\n      <th>Longitude</th>\n      <th>Unnamed: 18</th>\n    </tr>\n  </thead>\n  <tbody>\n    <tr>\n      <th>88</th>\n      <td>CTD088</td>\n      <td>54.0</td>\n      <td>20.22</td>\n      <td>165.0</td>\n      <td>25.62</td>\n      <td>UBS4</td>\n      <td>s87h1</td>\n      <td>9.0</td>\n      <td>0.0</td>\n      <td>0.0</td>\n      <td>6.0</td>\n      <td>9.0</td>\n      <td>0.0</td>\n      <td>0.0</td>\n      <td>1.0</td>\n      <td>1.0</td>\n      <td>54.337000</td>\n      <td>-165.427000</td>\n      <td>0</td>\n    </tr>\n    <tr>\n      <th>72</th>\n      <td>CTD072</td>\n      <td>54.0</td>\n      <td>21.58</td>\n      <td>165.0</td>\n      <td>55.41</td>\n      <td>UBW1</td>\n      <td>s71h1</td>\n      <td>11.0</td>\n      <td>0.0</td>\n      <td>1.0</td>\n      <td>6.0</td>\n      <td>0.0</td>\n      <td>1.0</td>\n      <td>0.0</td>\n      <td>1.0</td>\n      <td>1.0</td>\n      <td>54.359667</td>\n      <td>-165.923500</td>\n      <td>0</td>\n    </tr>\n    <tr>\n      <th>14</th>\n      <td>CTD015</td>\n      <td>57.0</td>\n      <td>19.64</td>\n      <td>166.0</td>\n      <td>19.04</td>\n      <td>70M10</td>\n      <td>s15h1</td>\n      <td>7.0</td>\n      <td>1.0</td>\n      <td>1.0</td>\n      <td>6.0</td>\n      <td>0.0</td>\n      <td>0.0</td>\n      <td>0.0</td>\n      <td>1.0</td>\n      <td>1.0</td>\n      <td>57.327333</td>\n      <td>-166.317333</td>\n      <td>0</td>\n    </tr>\n    <tr>\n      <th>6</th>\n      <td>CTD007</td>\n      <td>56.0</td>\n      <td>52.54</td>\n      <td>164.0</td>\n      <td>4.36</td>\n      <td>M2C</td>\n      <td>s7h1</td>\n      <td>7.0</td>\n      <td>1.0</td>\n      <td>7.0</td>\n      <td>6.0</td>\n      <td>7.0</td>\n      <td>0.0</td>\n      <td>0.0</td>\n      <td>0.0</td>\n      <td>0.0</td>\n      <td>56.875667</td>\n      <td>-164.072667</td>\n      <td>0</td>\n    </tr>\n    <tr>\n      <th>77</th>\n      <td>CTD077</td>\n      <td>54.0</td>\n      <td>48.93</td>\n      <td>165.0</td>\n      <td>51.97</td>\n      <td>UBN2</td>\n      <td>s76h1</td>\n      <td>9.0</td>\n      <td>0.0</td>\n      <td>1.0</td>\n      <td>6.0</td>\n      <td>1.0</td>\n      <td>0.0</td>\n      <td>0.0</td>\n      <td>1.0</td>\n      <td>1.0</td>\n      <td>54.815500</td>\n      <td>-165.866167</td>\n      <td>0</td>\n    </tr>\n  </tbody>\n</table>\n</div>"
     },
     "metadata": {},
     "execution_count": 7
    }
   ],
   "source": [
    "df.drop(index=[89,90],inplace=True) #becasue i know i have a summary line at the bottom of this excel page\n",
    "df.fillna(0,inplace=True)\n",
    "df.sample(5)"
   ]
  },
  {
   "cell_type": "code",
   "execution_count": 8,
   "metadata": {
    "colab": {
     "base_uri": "https://localhost:8080/",
     "height": 542
    },
    "id": "Zg3FIielGh-M",
    "outputId": "9c32fc65-1172-4e71-998f-9bc9fab71d14",
    "tags": []
   },
   "outputs": [
    {
     "output_type": "display_data",
     "data": {
      "application/vnd.plotly.v1+json": {
       "config": {
        "plotlyServerURL": "https://plot.ly"
       },
       "data": [
        {
         "customdata": [
          [
           "s1h4",
           0,
           0,
           0
          ],
          [
           "s2h1",
           1,
           1,
           6
          ],
          [
           "s3h1",
           0,
           1,
           6
          ],
          [
           "s4h1",
           0,
           1,
           6
          ],
          [
           "s5h1",
           1,
           1,
           6
          ],
          [
           "s6h1",
           0,
           1,
           6
          ],
          [
           "s7h1",
           1,
           7,
           6
          ],
          [
           "s8h1",
           0,
           1,
           6
          ],
          [
           "s9h1",
           0,
           1,
           6
          ],
          [
           "s10h1",
           0,
           1,
           6
          ],
          [
           "s11h1",
           1,
           1,
           6
          ],
          [
           "s12h1",
           0,
           1,
           6
          ],
          [
           "s13h1",
           0,
           1,
           6
          ],
          [
           "s14h1",
           0,
           1,
           6
          ],
          [
           "s15h1",
           1,
           1,
           6
          ],
          [
           "s16h1",
           0,
           1,
           6
          ],
          [
           0,
           0,
           0,
           0
          ],
          [
           "s17h1",
           0,
           1,
           6
          ],
          [
           "s18h1",
           1,
           1,
           6
          ],
          [
           "s19h1",
           0,
           1,
           6
          ],
          [
           "s20h1",
           0,
           1,
           6
          ],
          [
           "s21h1",
           0,
           1,
           6
          ],
          [
           "s22h1",
           0,
           1,
           6
          ],
          [
           "s23h1",
           0,
           1,
           6
          ],
          [
           "s24h1",
           1,
           1,
           6
          ],
          [
           "s25h1",
           0,
           1,
           6
          ],
          [
           "s26h1",
           0,
           1,
           6
          ],
          [
           "s27h1",
           0,
           1,
           6
          ],
          [
           "s28h1",
           0,
           1,
           6
          ],
          [
           "s29h1",
           0,
           1,
           6
          ],
          [
           "s30h1",
           1,
           0,
           6
          ],
          [
           "s31h1",
           0,
           1,
           6
          ],
          [
           "s32h1",
           0,
           1,
           6
          ],
          [
           "s33h1",
           1,
           1,
           6
          ],
          [
           "s34h1",
           0,
           1,
           6
          ],
          [
           "s35h1",
           0,
           1,
           6
          ],
          [
           "s36h1",
           0,
           1,
           6
          ],
          [
           "s37h1",
           1,
           1,
           6
          ],
          [
           "s38h1",
           0,
           2,
           6
          ],
          [
           "s39h1",
           0,
           1,
           6
          ],
          [
           "s40h1",
           0,
           1,
           6
          ],
          [
           "s41h1",
           0,
           1,
           6
          ],
          [
           "s42h1",
           0,
           1,
           6
          ],
          [
           "s43h1",
           0,
           1,
           6
          ],
          [
           "s44h1",
           0,
           1,
           6
          ],
          [
           "s45h1",
           1,
           1,
           6
          ],
          [
           "s46h1",
           0,
           1,
           6
          ],
          [
           "s47h1",
           0,
           1,
           6
          ],
          [
           "s48h1",
           0,
           1,
           6
          ],
          [
           "s49h1",
           0,
           1,
           6
          ],
          [
           "s50h1",
           1,
           1,
           6
          ],
          [
           "s51h1",
           0,
           1,
           6
          ],
          [
           "s52h1",
           0,
           1,
           6
          ],
          [
           "s53h1",
           0,
           1,
           6
          ],
          [
           "s54h1",
           0,
           1,
           6
          ],
          [
           "s55h1",
           0,
           0,
           0
          ],
          [
           "s55h2",
           0,
           2,
           0
          ],
          [
           "s56h1",
           0,
           0,
           0
          ],
          [
           "s57h1",
           1,
           1,
           6
          ],
          [
           "s58h1",
           0,
           2,
           0
          ],
          [
           "s59h1",
           0,
           0,
           0
          ],
          [
           "s60h1",
           1,
           1,
           6
          ],
          [
           "s61h1",
           0,
           1,
           6
          ],
          [
           "s62h1",
           0,
           1,
           6
          ],
          [
           "s63h1",
           0,
           1,
           6
          ],
          [
           "s64h1",
           1,
           1,
           6
          ],
          [
           "s65h1",
           0,
           1,
           6
          ],
          [
           "s66h1",
           0,
           1,
           6
          ],
          [
           "s67h1",
           0,
           1,
           6
          ],
          [
           "s68h1",
           1,
           11,
           6
          ],
          [
           "s69h1",
           0,
           1,
           6
          ],
          [
           "s70h1",
           0,
           1,
           6
          ],
          [
           "s71h1",
           0,
           1,
           6
          ],
          [
           "s72h1",
           0,
           1,
           6
          ],
          [
           "s73h1",
           0,
           1,
           6
          ],
          [
           "s74h1",
           1,
           1,
           6
          ],
          [
           "s75h1",
           0,
           1,
           6
          ],
          [
           "s76h1",
           0,
           1,
           6
          ],
          [
           "s77h1",
           1,
           1,
           6
          ],
          [
           "s778h1",
           0,
           1,
           6
          ],
          [
           "s79h1",
           0,
           1,
           0
          ],
          [
           "s80h1",
           0,
           1,
           6
          ],
          [
           "s81h1",
           0,
           1,
           6
          ],
          [
           "s82h1",
           1,
           1,
           6
          ],
          [
           "s83h1",
           0,
           0,
           0
          ],
          [
           "s84h1",
           0,
           0,
           6
          ],
          [
           "s85h1",
           0,
           0,
           5
          ],
          [
           "s86h1",
           1,
           0,
           6
          ],
          [
           "s87h1",
           0,
           0,
           6
          ]
         ],
         "geo": "geo",
         "hovertemplate": "<b>%{hovertext}</b><br><br>Latitude=%{lat}<br>Longitude=%{lon}<br>Station Number=%{customdata[0]}<br>Sal. Samples=%{customdata[1]}<br>O2 Samples=%{customdata[2]}<br>Chl Samples=%{customdata[3]}<extra></extra>",
         "hovertext": [
          "\"TEST\"",
          "M2E",
          "M2N",
          "M2W",
          "M2S",
          "M2C",
          "M2C",
          "70M3",
          "70M4",
          "70M5",
          "70M6",
          "70M7",
          "70M8",
          "70M9",
          "70M10",
          "70M11",
          "70M12",
          "70M12",
          "70M13",
          "70M14",
          "70M15",
          "70M16",
          "70M17",
          "70M18",
          "70M4S",
          "70M4E",
          "70M4N",
          "M4C",
          "70M4W",
          "70M24",
          "70M25",
          "70M26",
          "70M27",
          "70M28",
          "70M29",
          "70M30",
          "70M31",
          "70M32",
          "70M33",
          "70M34",
          "70M35",
          "M5S",
          "M5E",
          "M5C",
          "M5N",
          "M5W",
          "70M41",
          "70M42",
          "70M43",
          "70M44",
          "70M45",
          "70M46",
          "70M47",
          "70M48",
          "70M49",
          0,
          0,
          0,
          "70M50",
          "AL21_AU_BS10",
          "AL21_AU_UM",
          "UT3",
          "AW1",
          "AW2",
          "AW3",
          "AW4",
          "AW5",
          "AE5",
          "AE4",
          "AE3",
          "AE2",
          "AE1",
          "UBW1",
          "UBW2",
          "UBW3",
          "UBW4",
          "UBN1",
          "UBN2",
          "UBN3",
          "UBN4",
          "UBN5",
          "UBN6",
          "UBE1",
          "UBE2",
          "AL21_AU_UN01a",
          "UBS2",
          "UBS1",
          "UBS3",
          "UBS4"
         ],
         "lat": [
          54.52066666666666,
          56.94083333333333,
          57.01583333333333,
          56.768166666666666,
          56.666,
          56.882666666666665,
          56.87566666666667,
          56.815666666666665,
          56.913,
          56.86233333333333,
          56.998333333333335,
          57.116,
          57.26266666666667,
          57.3235,
          57.327333333333335,
          57.43783333333333,
          57.42933333333333,
          57.42916666666667,
          57.522333333333336,
          57.502,
          57.50333333333333,
          57.50533333333333,
          57.52,
          57.5295,
          57.652166666666666,
          57.769,
          58.067166666666665,
          57.864666666666665,
          57.9285,
          58.042833333333334,
          58.1415,
          58.282666666666664,
          58.44316666666667,
          58.617333333333335,
          58.77733333333333,
          58.94983333333333,
          59.109,
          59.24783333333333,
          59.3345,
          59.437,
          59.595166666666664,
          59.702,
          59.90083333333333,
          59.92,
          60.07266666666667,
          59.897166666666664,
          59.98083333333334,
          60.03933333333333,
          60.1065,
          60.25533333333333,
          60.428333333333335,
          60.5715,
          60.73833333333333,
          60.909,
          61.0675,
          61.11633333333333,
          61.117666666666665,
          61.158166666666666,
          61.251666666666665,
          56.166666666666664,
          53.63216666666667,
          54.17733333333334,
          54.0865,
          54.143166666666666,
          54.200833333333335,
          54.32333333333333,
          54.44866666666667,
          54.560833333333335,
          54.44016666666667,
          54.302166666666665,
          54.22833333333333,
          54.1695,
          54.35966666666667,
          54.474666666666664,
          54.586,
          54.688833333333335,
          54.75383333333333,
          54.8155,
          54.872,
          54.93483333333333,
          54.989,
          55.050333333333334,
          54.935,
          54.82416666666667,
          54.4355,
          54.42433333333334,
          54.451166666666666,
          54.39533333333333,
          54.337
         ],
         "legendgroup": "",
         "lon": [
          -165.17366666666666,
          -163.84,
          -164.21683333333334,
          -164.33066666666667,
          -163.85833333333332,
          -164.075,
          -164.07266666666666,
          -164.58866666666665,
          -164.835,
          -165.12183333333334,
          -165.3755,
          -165.612,
          -165.745,
          -166.007,
          -166.31733333333332,
          -166.50883333333334,
          -166.81083333333333,
          -166.80966666666666,
          -167.03516666666667,
          -167.34216666666666,
          -167.66283333333334,
          -167.96966666666665,
          -168.29216666666667,
          -168.60933333333332,
          -169.01516666666666,
          -168.47483333333332,
          -168.72916666666666,
          -168.89133333333334,
          -169.31666666666666,
          -169.65633333333332,
          -169.91133333333335,
          -170.09266666666667,
          -170.18766666666667,
          -170.27933333333334,
          -170.29916666666668,
          -170.32666666666665,
          -170.244,
          -170.40516666666667,
          -170.65816666666666,
          -170.90633333333332,
          -170.92583333333334,
          -171.502,
          -171.24716666666666,
          -171.731,
          -172.00416666666666,
          -172.174,
          -172.74516666666668,
          -173.00366666666667,
          -173.30966666666666,
          -173.5105,
          -173.58366666666666,
          -173.64133333333334,
          -173.65,
          -173.82533333333333,
          -173.82833333333335,
          -173.8035,
          -173.8045,
          -173.7805,
          -173.73833333333334,
          -166.581,
          -167.39883333333333,
          -167.1475,
          -166.62116666666665,
          -166.64533333333333,
          -166.70566666666667,
          -166.821,
          -166.94,
          -166.5865,
          -166.47566666666665,
          -166.3415,
          -166.26016666666666,
          -166.2105,
          -165.9235,
          -166.04616666666666,
          -166.13883333333334,
          -166.23966666666666,
          -166.05116666666666,
          -165.86616666666666,
          -165.673,
          -165.485,
          -165.29266666666666,
          -165.11083333333335,
          -164.99683333333334,
          -164.8945,
          -165.27633333333333,
          -165.152,
          -164.99883333333332,
          -165.28166666666667,
          -165.427
         ],
         "marker": {
          "color": "#636efa",
          "symbol": "circle"
         },
         "mode": "markers",
         "name": "",
         "showlegend": false,
         "type": "scattergeo"
        }
       ],
       "layout": {
        "geo": {
         "center": {},
         "coastlinewidth": 2,
         "countrycolor": "rgb(204, 204, 204)",
         "domain": {
          "x": [
           0,
           1
          ],
          "y": [
           0,
           1
          ]
         },
         "lakecolor": "rgb(255, 255, 255)",
         "landcolor": "rgb(204, 204, 204)",
         "lataxis": {
          "dtick": 10,
          "range": [
           50,
           70
          ],
          "showgrid": true
         },
         "lonaxis": {
          "dtick": 20,
          "range": [
           -180,
           -150
          ],
          "showgrid": true
         },
         "projection": {
          "type": "equirectangular"
         },
         "resolution": 50,
         "showlakes": true,
         "showland": true
        },
        "legend": {
         "tracegroupgap": 0
        },
        "margin": {
         "t": 60
        },
        "showlegend": false,
        "template": {
         "data": {
          "bar": [
           {
            "error_x": {
             "color": "#2a3f5f"
            },
            "error_y": {
             "color": "#2a3f5f"
            },
            "marker": {
             "line": {
              "color": "#E5ECF6",
              "width": 0.5
             }
            },
            "type": "bar"
           }
          ],
          "barpolar": [
           {
            "marker": {
             "line": {
              "color": "#E5ECF6",
              "width": 0.5
             }
            },
            "type": "barpolar"
           }
          ],
          "carpet": [
           {
            "aaxis": {
             "endlinecolor": "#2a3f5f",
             "gridcolor": "white",
             "linecolor": "white",
             "minorgridcolor": "white",
             "startlinecolor": "#2a3f5f"
            },
            "baxis": {
             "endlinecolor": "#2a3f5f",
             "gridcolor": "white",
             "linecolor": "white",
             "minorgridcolor": "white",
             "startlinecolor": "#2a3f5f"
            },
            "type": "carpet"
           }
          ],
          "choropleth": [
           {
            "colorbar": {
             "outlinewidth": 0,
             "ticks": ""
            },
            "type": "choropleth"
           }
          ],
          "contour": [
           {
            "colorbar": {
             "outlinewidth": 0,
             "ticks": ""
            },
            "colorscale": [
             [
              0,
              "#0d0887"
             ],
             [
              0.1111111111111111,
              "#46039f"
             ],
             [
              0.2222222222222222,
              "#7201a8"
             ],
             [
              0.3333333333333333,
              "#9c179e"
             ],
             [
              0.4444444444444444,
              "#bd3786"
             ],
             [
              0.5555555555555556,
              "#d8576b"
             ],
             [
              0.6666666666666666,
              "#ed7953"
             ],
             [
              0.7777777777777778,
              "#fb9f3a"
             ],
             [
              0.8888888888888888,
              "#fdca26"
             ],
             [
              1,
              "#f0f921"
             ]
            ],
            "type": "contour"
           }
          ],
          "contourcarpet": [
           {
            "colorbar": {
             "outlinewidth": 0,
             "ticks": ""
            },
            "type": "contourcarpet"
           }
          ],
          "heatmap": [
           {
            "colorbar": {
             "outlinewidth": 0,
             "ticks": ""
            },
            "colorscale": [
             [
              0,
              "#0d0887"
             ],
             [
              0.1111111111111111,
              "#46039f"
             ],
             [
              0.2222222222222222,
              "#7201a8"
             ],
             [
              0.3333333333333333,
              "#9c179e"
             ],
             [
              0.4444444444444444,
              "#bd3786"
             ],
             [
              0.5555555555555556,
              "#d8576b"
             ],
             [
              0.6666666666666666,
              "#ed7953"
             ],
             [
              0.7777777777777778,
              "#fb9f3a"
             ],
             [
              0.8888888888888888,
              "#fdca26"
             ],
             [
              1,
              "#f0f921"
             ]
            ],
            "type": "heatmap"
           }
          ],
          "heatmapgl": [
           {
            "colorbar": {
             "outlinewidth": 0,
             "ticks": ""
            },
            "colorscale": [
             [
              0,
              "#0d0887"
             ],
             [
              0.1111111111111111,
              "#46039f"
             ],
             [
              0.2222222222222222,
              "#7201a8"
             ],
             [
              0.3333333333333333,
              "#9c179e"
             ],
             [
              0.4444444444444444,
              "#bd3786"
             ],
             [
              0.5555555555555556,
              "#d8576b"
             ],
             [
              0.6666666666666666,
              "#ed7953"
             ],
             [
              0.7777777777777778,
              "#fb9f3a"
             ],
             [
              0.8888888888888888,
              "#fdca26"
             ],
             [
              1,
              "#f0f921"
             ]
            ],
            "type": "heatmapgl"
           }
          ],
          "histogram": [
           {
            "marker": {
             "colorbar": {
              "outlinewidth": 0,
              "ticks": ""
             }
            },
            "type": "histogram"
           }
          ],
          "histogram2d": [
           {
            "colorbar": {
             "outlinewidth": 0,
             "ticks": ""
            },
            "colorscale": [
             [
              0,
              "#0d0887"
             ],
             [
              0.1111111111111111,
              "#46039f"
             ],
             [
              0.2222222222222222,
              "#7201a8"
             ],
             [
              0.3333333333333333,
              "#9c179e"
             ],
             [
              0.4444444444444444,
              "#bd3786"
             ],
             [
              0.5555555555555556,
              "#d8576b"
             ],
             [
              0.6666666666666666,
              "#ed7953"
             ],
             [
              0.7777777777777778,
              "#fb9f3a"
             ],
             [
              0.8888888888888888,
              "#fdca26"
             ],
             [
              1,
              "#f0f921"
             ]
            ],
            "type": "histogram2d"
           }
          ],
          "histogram2dcontour": [
           {
            "colorbar": {
             "outlinewidth": 0,
             "ticks": ""
            },
            "colorscale": [
             [
              0,
              "#0d0887"
             ],
             [
              0.1111111111111111,
              "#46039f"
             ],
             [
              0.2222222222222222,
              "#7201a8"
             ],
             [
              0.3333333333333333,
              "#9c179e"
             ],
             [
              0.4444444444444444,
              "#bd3786"
             ],
             [
              0.5555555555555556,
              "#d8576b"
             ],
             [
              0.6666666666666666,
              "#ed7953"
             ],
             [
              0.7777777777777778,
              "#fb9f3a"
             ],
             [
              0.8888888888888888,
              "#fdca26"
             ],
             [
              1,
              "#f0f921"
             ]
            ],
            "type": "histogram2dcontour"
           }
          ],
          "mesh3d": [
           {
            "colorbar": {
             "outlinewidth": 0,
             "ticks": ""
            },
            "type": "mesh3d"
           }
          ],
          "parcoords": [
           {
            "line": {
             "colorbar": {
              "outlinewidth": 0,
              "ticks": ""
             }
            },
            "type": "parcoords"
           }
          ],
          "pie": [
           {
            "automargin": true,
            "type": "pie"
           }
          ],
          "scatter": [
           {
            "marker": {
             "colorbar": {
              "outlinewidth": 0,
              "ticks": ""
             }
            },
            "type": "scatter"
           }
          ],
          "scatter3d": [
           {
            "line": {
             "colorbar": {
              "outlinewidth": 0,
              "ticks": ""
             }
            },
            "marker": {
             "colorbar": {
              "outlinewidth": 0,
              "ticks": ""
             }
            },
            "type": "scatter3d"
           }
          ],
          "scattercarpet": [
           {
            "marker": {
             "colorbar": {
              "outlinewidth": 0,
              "ticks": ""
             }
            },
            "type": "scattercarpet"
           }
          ],
          "scattergeo": [
           {
            "marker": {
             "colorbar": {
              "outlinewidth": 0,
              "ticks": ""
             }
            },
            "type": "scattergeo"
           }
          ],
          "scattergl": [
           {
            "marker": {
             "colorbar": {
              "outlinewidth": 0,
              "ticks": ""
             }
            },
            "type": "scattergl"
           }
          ],
          "scattermapbox": [
           {
            "marker": {
             "colorbar": {
              "outlinewidth": 0,
              "ticks": ""
             }
            },
            "type": "scattermapbox"
           }
          ],
          "scatterpolar": [
           {
            "marker": {
             "colorbar": {
              "outlinewidth": 0,
              "ticks": ""
             }
            },
            "type": "scatterpolar"
           }
          ],
          "scatterpolargl": [
           {
            "marker": {
             "colorbar": {
              "outlinewidth": 0,
              "ticks": ""
             }
            },
            "type": "scatterpolargl"
           }
          ],
          "scatterternary": [
           {
            "marker": {
             "colorbar": {
              "outlinewidth": 0,
              "ticks": ""
             }
            },
            "type": "scatterternary"
           }
          ],
          "surface": [
           {
            "colorbar": {
             "outlinewidth": 0,
             "ticks": ""
            },
            "colorscale": [
             [
              0,
              "#0d0887"
             ],
             [
              0.1111111111111111,
              "#46039f"
             ],
             [
              0.2222222222222222,
              "#7201a8"
             ],
             [
              0.3333333333333333,
              "#9c179e"
             ],
             [
              0.4444444444444444,
              "#bd3786"
             ],
             [
              0.5555555555555556,
              "#d8576b"
             ],
             [
              0.6666666666666666,
              "#ed7953"
             ],
             [
              0.7777777777777778,
              "#fb9f3a"
             ],
             [
              0.8888888888888888,
              "#fdca26"
             ],
             [
              1,
              "#f0f921"
             ]
            ],
            "type": "surface"
           }
          ],
          "table": [
           {
            "cells": {
             "fill": {
              "color": "#EBF0F8"
             },
             "line": {
              "color": "white"
             }
            },
            "header": {
             "fill": {
              "color": "#C8D4E3"
             },
             "line": {
              "color": "white"
             }
            },
            "type": "table"
           }
          ]
         },
         "layout": {
          "annotationdefaults": {
           "arrowcolor": "#2a3f5f",
           "arrowhead": 0,
           "arrowwidth": 1
          },
          "autotypenumbers": "strict",
          "coloraxis": {
           "colorbar": {
            "outlinewidth": 0,
            "ticks": ""
           }
          },
          "colorscale": {
           "diverging": [
            [
             0,
             "#8e0152"
            ],
            [
             0.1,
             "#c51b7d"
            ],
            [
             0.2,
             "#de77ae"
            ],
            [
             0.3,
             "#f1b6da"
            ],
            [
             0.4,
             "#fde0ef"
            ],
            [
             0.5,
             "#f7f7f7"
            ],
            [
             0.6,
             "#e6f5d0"
            ],
            [
             0.7,
             "#b8e186"
            ],
            [
             0.8,
             "#7fbc41"
            ],
            [
             0.9,
             "#4d9221"
            ],
            [
             1,
             "#276419"
            ]
           ],
           "sequential": [
            [
             0,
             "#0d0887"
            ],
            [
             0.1111111111111111,
             "#46039f"
            ],
            [
             0.2222222222222222,
             "#7201a8"
            ],
            [
             0.3333333333333333,
             "#9c179e"
            ],
            [
             0.4444444444444444,
             "#bd3786"
            ],
            [
             0.5555555555555556,
             "#d8576b"
            ],
            [
             0.6666666666666666,
             "#ed7953"
            ],
            [
             0.7777777777777778,
             "#fb9f3a"
            ],
            [
             0.8888888888888888,
             "#fdca26"
            ],
            [
             1,
             "#f0f921"
            ]
           ],
           "sequentialminus": [
            [
             0,
             "#0d0887"
            ],
            [
             0.1111111111111111,
             "#46039f"
            ],
            [
             0.2222222222222222,
             "#7201a8"
            ],
            [
             0.3333333333333333,
             "#9c179e"
            ],
            [
             0.4444444444444444,
             "#bd3786"
            ],
            [
             0.5555555555555556,
             "#d8576b"
            ],
            [
             0.6666666666666666,
             "#ed7953"
            ],
            [
             0.7777777777777778,
             "#fb9f3a"
            ],
            [
             0.8888888888888888,
             "#fdca26"
            ],
            [
             1,
             "#f0f921"
            ]
           ]
          },
          "colorway": [
           "#636efa",
           "#EF553B",
           "#00cc96",
           "#ab63fa",
           "#FFA15A",
           "#19d3f3",
           "#FF6692",
           "#B6E880",
           "#FF97FF",
           "#FECB52"
          ],
          "font": {
           "color": "#2a3f5f"
          },
          "geo": {
           "bgcolor": "white",
           "lakecolor": "white",
           "landcolor": "#E5ECF6",
           "showlakes": true,
           "showland": true,
           "subunitcolor": "white"
          },
          "hoverlabel": {
           "align": "left"
          },
          "hovermode": "closest",
          "mapbox": {
           "style": "light"
          },
          "paper_bgcolor": "white",
          "plot_bgcolor": "#E5ECF6",
          "polar": {
           "angularaxis": {
            "gridcolor": "white",
            "linecolor": "white",
            "ticks": ""
           },
           "bgcolor": "#E5ECF6",
           "radialaxis": {
            "gridcolor": "white",
            "linecolor": "white",
            "ticks": ""
           }
          },
          "scene": {
           "xaxis": {
            "backgroundcolor": "#E5ECF6",
            "gridcolor": "white",
            "gridwidth": 2,
            "linecolor": "white",
            "showbackground": true,
            "ticks": "",
            "zerolinecolor": "white"
           },
           "yaxis": {
            "backgroundcolor": "#E5ECF6",
            "gridcolor": "white",
            "gridwidth": 2,
            "linecolor": "white",
            "showbackground": true,
            "ticks": "",
            "zerolinecolor": "white"
           },
           "zaxis": {
            "backgroundcolor": "#E5ECF6",
            "gridcolor": "white",
            "gridwidth": 2,
            "linecolor": "white",
            "showbackground": true,
            "ticks": "",
            "zerolinecolor": "white"
           }
          },
          "shapedefaults": {
           "line": {
            "color": "#2a3f5f"
           }
          },
          "ternary": {
           "aaxis": {
            "gridcolor": "white",
            "linecolor": "white",
            "ticks": ""
           },
           "baxis": {
            "gridcolor": "white",
            "linecolor": "white",
            "ticks": ""
           },
           "bgcolor": "#E5ECF6",
           "caxis": {
            "gridcolor": "white",
            "linecolor": "white",
            "ticks": ""
           }
          },
          "title": {
           "x": 0.05
          },
          "xaxis": {
           "automargin": true,
           "gridcolor": "white",
           "linecolor": "white",
           "ticks": "",
           "title": {
            "standoff": 15
           },
           "zerolinecolor": "white",
           "zerolinewidth": 2
          },
          "yaxis": {
           "automargin": true,
           "gridcolor": "white",
           "linecolor": "white",
           "ticks": "",
           "title": {
            "standoff": 15
           },
           "zerolinecolor": "white",
           "zerolinewidth": 2
          }
         }
        },
        "title": {
         "text": "DY2103 Cruise CTD Stations"
        }
       }
      }
     },
     "metadata": {}
    }
   ],
   "source": [
    "import plotly.express as px\n",
    "fig = px.scatter_geo(data_frame=df,lat='Latitude',lon='Longitude',hover_name=\"Site\",hover_data=[\"Station Number\",\"Sal. Samples\",\"O2 Samples\",\"Chl Samples\"])\n",
    "\n",
    "fig.update_layout(\n",
    "    title_text = 'DY2103 Cruise CTD Stations',\n",
    "    showlegend = False,\n",
    "    geo = dict(\n",
    "        resolution = 50,\n",
    "        showland = True,\n",
    "        showlakes = True,\n",
    "        landcolor = 'rgb(204, 204, 204)',\n",
    "        countrycolor = 'rgb(204, 204, 204)',\n",
    "        lakecolor = 'rgb(255, 255, 255)',\n",
    "        projection_type = \"equirectangular\",\n",
    "        coastlinewidth = 2,\n",
    "        lataxis = dict(\n",
    "            range = [50, 70],\n",
    "            showgrid = True,\n",
    "            dtick = 10\n",
    "        ),\n",
    "        lonaxis = dict(\n",
    "            range = [-180, -150],\n",
    "            showgrid = True,\n",
    "            dtick = 20\n",
    "        ),\n",
    "    )\n",
    ")\n",
    "fig.show()"
   ]
  },
  {
   "source": [
    "## More Trivial Examples\n"
   ],
   "cell_type": "markdown",
   "metadata": {
    "id": "RjN1goyEK1HC"
   }
  },
  {
   "cell_type": "code",
   "execution_count": 10,
   "metadata": {},
   "outputs": [
    {
     "output_type": "execute_result",
     "data": {
      "text/plain": [
       "            Lat.                   Lon.             No. of Nutrients  \\\n",
       "count  89.000000  89.000000   89.000000  89.000000         89.000000   \n",
       "mean   56.685393  29.910449  167.640449  29.664157          7.078652   \n",
       "std     2.318873  17.837133    3.057209  17.846384          2.585909   \n",
       "min    53.000000   0.950000  163.000000   0.220000          0.000000   \n",
       "25%    54.000000  15.100000  165.000000  14.830000          7.000000   \n",
       "50%    57.000000  27.070000  166.000000  30.120000          7.000000   \n",
       "75%    59.000000  46.140000  170.000000  44.710000          8.000000   \n",
       "max    61.000000  59.900000  173.000000  59.930000         11.000000   \n",
       "\n",
       "       Sal. Samples  O2 Samples  Chl Samples  Number of DIC  Gann Sample  \\\n",
       "count     89.000000   89.000000    89.000000      89.000000    89.000000   \n",
       "mean       0.224719    1.089888     5.382022       0.988764     0.528090   \n",
       "std        0.419762    1.302449     1.818501       2.253756     0.545433   \n",
       "min        0.000000    0.000000     0.000000       0.000000     0.000000   \n",
       "25%        0.000000    1.000000     6.000000       0.000000     0.000000   \n",
       "50%        0.000000    1.000000     6.000000       0.000000     1.000000   \n",
       "75%        0.000000    1.000000     6.000000       1.000000     1.000000   \n",
       "max        1.000000   11.000000     6.000000       9.000000     2.000000   \n",
       "\n",
       "       Abs. Sample  FCM Sample  Size Frac Chlor   Latitude   Longitude  \n",
       "count    89.000000   89.000000        89.000000  89.000000   89.000000  \n",
       "mean      0.056180    1.382022         0.932584  57.183901 -168.134852  \n",
       "std       0.231573    1.361029         1.513558   2.286659    3.082843  \n",
       "min       0.000000    0.000000         0.000000  53.632167 -173.828333  \n",
       "25%       0.000000    1.000000         0.000000  54.753833 -170.326667  \n",
       "50%       0.000000    1.000000         1.000000  57.327333 -166.821000  \n",
       "75%       0.000000    1.000000         1.000000  59.109000 -165.673000  \n",
       "max       1.000000    7.000000         7.000000  61.251667 -163.840000  "
      ],
      "text/html": "<div>\n<style scoped>\n    .dataframe tbody tr th:only-of-type {\n        vertical-align: middle;\n    }\n\n    .dataframe tbody tr th {\n        vertical-align: top;\n    }\n\n    .dataframe thead th {\n        text-align: right;\n    }\n</style>\n<table border=\"1\" class=\"dataframe\">\n  <thead>\n    <tr style=\"text-align: right;\">\n      <th></th>\n      <th>Lat.</th>\n      <th></th>\n      <th>Lon.</th>\n      <th></th>\n      <th>No. of Nutrients</th>\n      <th>Sal. Samples</th>\n      <th>O2 Samples</th>\n      <th>Chl Samples</th>\n      <th>Number of DIC</th>\n      <th>Gann Sample</th>\n      <th>Abs. Sample</th>\n      <th>FCM Sample</th>\n      <th>Size Frac Chlor</th>\n      <th>Latitude</th>\n      <th>Longitude</th>\n    </tr>\n  </thead>\n  <tbody>\n    <tr>\n      <th>count</th>\n      <td>89.000000</td>\n      <td>89.000000</td>\n      <td>89.000000</td>\n      <td>89.000000</td>\n      <td>89.000000</td>\n      <td>89.000000</td>\n      <td>89.000000</td>\n      <td>89.000000</td>\n      <td>89.000000</td>\n      <td>89.000000</td>\n      <td>89.000000</td>\n      <td>89.000000</td>\n      <td>89.000000</td>\n      <td>89.000000</td>\n      <td>89.000000</td>\n    </tr>\n    <tr>\n      <th>mean</th>\n      <td>56.685393</td>\n      <td>29.910449</td>\n      <td>167.640449</td>\n      <td>29.664157</td>\n      <td>7.078652</td>\n      <td>0.224719</td>\n      <td>1.089888</td>\n      <td>5.382022</td>\n      <td>0.988764</td>\n      <td>0.528090</td>\n      <td>0.056180</td>\n      <td>1.382022</td>\n      <td>0.932584</td>\n      <td>57.183901</td>\n      <td>-168.134852</td>\n    </tr>\n    <tr>\n      <th>std</th>\n      <td>2.318873</td>\n      <td>17.837133</td>\n      <td>3.057209</td>\n      <td>17.846384</td>\n      <td>2.585909</td>\n      <td>0.419762</td>\n      <td>1.302449</td>\n      <td>1.818501</td>\n      <td>2.253756</td>\n      <td>0.545433</td>\n      <td>0.231573</td>\n      <td>1.361029</td>\n      <td>1.513558</td>\n      <td>2.286659</td>\n      <td>3.082843</td>\n    </tr>\n    <tr>\n      <th>min</th>\n      <td>53.000000</td>\n      <td>0.950000</td>\n      <td>163.000000</td>\n      <td>0.220000</td>\n      <td>0.000000</td>\n      <td>0.000000</td>\n      <td>0.000000</td>\n      <td>0.000000</td>\n      <td>0.000000</td>\n      <td>0.000000</td>\n      <td>0.000000</td>\n      <td>0.000000</td>\n      <td>0.000000</td>\n      <td>53.632167</td>\n      <td>-173.828333</td>\n    </tr>\n    <tr>\n      <th>25%</th>\n      <td>54.000000</td>\n      <td>15.100000</td>\n      <td>165.000000</td>\n      <td>14.830000</td>\n      <td>7.000000</td>\n      <td>0.000000</td>\n      <td>1.000000</td>\n      <td>6.000000</td>\n      <td>0.000000</td>\n      <td>0.000000</td>\n      <td>0.000000</td>\n      <td>1.000000</td>\n      <td>0.000000</td>\n      <td>54.753833</td>\n      <td>-170.326667</td>\n    </tr>\n    <tr>\n      <th>50%</th>\n      <td>57.000000</td>\n      <td>27.070000</td>\n      <td>166.000000</td>\n      <td>30.120000</td>\n      <td>7.000000</td>\n      <td>0.000000</td>\n      <td>1.000000</td>\n      <td>6.000000</td>\n      <td>0.000000</td>\n      <td>1.000000</td>\n      <td>0.000000</td>\n      <td>1.000000</td>\n      <td>1.000000</td>\n      <td>57.327333</td>\n      <td>-166.821000</td>\n    </tr>\n    <tr>\n      <th>75%</th>\n      <td>59.000000</td>\n      <td>46.140000</td>\n      <td>170.000000</td>\n      <td>44.710000</td>\n      <td>8.000000</td>\n      <td>0.000000</td>\n      <td>1.000000</td>\n      <td>6.000000</td>\n      <td>1.000000</td>\n      <td>1.000000</td>\n      <td>0.000000</td>\n      <td>1.000000</td>\n      <td>1.000000</td>\n      <td>59.109000</td>\n      <td>-165.673000</td>\n    </tr>\n    <tr>\n      <th>max</th>\n      <td>61.000000</td>\n      <td>59.900000</td>\n      <td>173.000000</td>\n      <td>59.930000</td>\n      <td>11.000000</td>\n      <td>1.000000</td>\n      <td>11.000000</td>\n      <td>6.000000</td>\n      <td>9.000000</td>\n      <td>2.000000</td>\n      <td>1.000000</td>\n      <td>7.000000</td>\n      <td>7.000000</td>\n      <td>61.251667</td>\n      <td>-163.840000</td>\n    </tr>\n  </tbody>\n</table>\n</div>"
     },
     "metadata": {},
     "execution_count": 10
    }
   ],
   "source": [
    "df.describe()"
   ]
  },
  {
   "cell_type": "markdown",
   "metadata": {
    "id": "zEaT4iDBN8cb"
   },
   "source": [
    "## Now what if I want to share this with someone else?\n",
    "\n",
    "- GoogleCoLab: If your data is publicly available, you could just invite them to the CoLab project (like a shared google doc)\n",
    "- If you just want them to see the results, you could host it on GitHub and link to that\n",
    "- you can also download the raw python or the notebook and share it that way"
   ]
  }
 ],
 "metadata": {
  "colab": {
   "authorship_tag": "ABX9TyO4RYi9wfoEnB4me5Mtdh4u",
   "collapsed_sections": [],
   "include_colab_link": true,
   "name": "Collab and Plotly to plot cruise stations from excel.ipynb",
   "provenance": []
  },
  "kernelspec": {
   "name": "python3",
   "display_name": "Python 3.9.4 64-bit ('NOAAInterns': conda)"
  },
  "language_info": {
   "codemirror_mode": {
    "name": "ipython",
    "version": 3
   },
   "file_extension": ".py",
   "mimetype": "text/x-python",
   "name": "python",
   "nbconvert_exporter": "python",
   "pygments_lexer": "ipython3",
   "version": "3.9.4"
  },
  "interpreter": {
   "hash": "97a3114bf633c0ffcd695791073bbd7363f699540a14e474450695fba6be871d"
  }
 },
 "nbformat": 4,
 "nbformat_minor": 4
}