{
  "nbformat": 4,
  "nbformat_minor": 0,
  "metadata": {
    "colab": {
      "name": "Collab and Plotly to plot cruise stations from excel.ipynb",
      "provenance": [],
      "collapsed_sections": [],
      "authorship_tag": "ABX9TyO4RYi9wfoEnB4me5Mtdh4u",
      "include_colab_link": true
    },
    "kernelspec": {
      "name": "python3",
      "display_name": "Python 3"
    },
    "language_info": {
      "name": "python"
    }
  },
  "cells": [
    {
      "cell_type": "markdown",
      "metadata": {
        "id": "view-in-github",
        "colab_type": "text"
      },
      "source": [
        "<a href=\"https://colab.research.google.com/github/shaunwbell/GoogleCoLabArchive/blob/main/Collab_and_Plotly_to_plot_cruise_stations_from_excel.ipynb\" target=\"_parent\"><img src=\"https://colab.research.google.com/assets/colab-badge.svg\" alt=\"Open In Colab\"/></a>"
      ]
    },
    {
      "cell_type": "markdown",
      "metadata": {
        "id": "LfParqIVDz8y"
      },
      "source": [
        "# Using Jupyter Notebooks for Geophysical Data Exploration\n",
        "\n",
        "First, some key references:\n",
        "+ conda a package manager alternative to PIP\n",
        "+ anaconda python - a prepackaged, scientific analysis oriented python distribution (comes with conda)\n",
        "\n",
        "These two products will enable you to fairly easily, create your own locally hosted jupyter-lab environment (assuming you have some basic familiarity with command line tools, linux/unix, and python)"
      ]
    },
    {
      "cell_type": "markdown",
      "metadata": {
        "id": "ZsmLc_JoEpt4"
      },
      "source": [
        "**But Wait!!** I don't have the ability or knowledge to run my own jupyter-lab enviornment\n",
        "\n",
        " ## Google Hosted Jupyter Notebooks to the rescue\n",
        "\n",
        " No need to setup Jupyter-lab, but you will need to install any needed package... and more importantly, you will need to know how to access your data you want to use"
      ]
    },
    {
      "cell_type": "code",
      "metadata": {
        "colab": {
          "base_uri": "https://localhost:8080/",
          "height": 354
        },
        "id": "Eblw6p0xDzB2",
        "outputId": "dfd6d858-45bf-41a5-e2ea-5bba073ca6b5"
      },
      "source": [
        "## this wont work with a NOAA account because its disabled, but will work on a personal account\n",
        "\n",
        "from google.colab import drive\n",
        "drive.mount('/gdrive')\n",
        "%cd /gdrive"
      ],
      "execution_count": 2,
      "outputs": [
        {
          "output_type": "error",
          "ename": "ValueError",
          "evalue": "ignored",
          "traceback": [
            "\u001b[0;31m---------------------------------------------------------------------------\u001b[0m",
            "\u001b[0;31mValueError\u001b[0m                                Traceback (most recent call last)",
            "\u001b[0;32m<ipython-input-2-8410ac91c79b>\u001b[0m in \u001b[0;36m<module>\u001b[0;34m()\u001b[0m\n\u001b[1;32m      2\u001b[0m \u001b[0;34m\u001b[0m\u001b[0m\n\u001b[1;32m      3\u001b[0m \u001b[0;32mfrom\u001b[0m \u001b[0mgoogle\u001b[0m\u001b[0;34m.\u001b[0m\u001b[0mcolab\u001b[0m \u001b[0;32mimport\u001b[0m \u001b[0mdrive\u001b[0m\u001b[0;34m\u001b[0m\u001b[0;34m\u001b[0m\u001b[0m\n\u001b[0;32m----> 4\u001b[0;31m \u001b[0mdrive\u001b[0m\u001b[0;34m.\u001b[0m\u001b[0mmount\u001b[0m\u001b[0;34m(\u001b[0m\u001b[0;34m'/gdrive'\u001b[0m\u001b[0;34m)\u001b[0m\u001b[0;34m\u001b[0m\u001b[0;34m\u001b[0m\u001b[0m\n\u001b[0m\u001b[1;32m      5\u001b[0m \u001b[0mget_ipython\u001b[0m\u001b[0;34m(\u001b[0m\u001b[0;34m)\u001b[0m\u001b[0;34m.\u001b[0m\u001b[0mmagic\u001b[0m\u001b[0;34m(\u001b[0m\u001b[0;34m'cd /gdrive'\u001b[0m\u001b[0;34m)\u001b[0m\u001b[0;34m\u001b[0m\u001b[0;34m\u001b[0m\u001b[0m\n",
            "\u001b[0;32m/usr/local/lib/python3.7/dist-packages/google/colab/drive.py\u001b[0m in \u001b[0;36mmount\u001b[0;34m(mountpoint, force_remount, timeout_ms, use_metadata_server)\u001b[0m\n\u001b[1;32m    271\u001b[0m       raise ValueError(\n\u001b[1;32m    272\u001b[0m           \u001b[0mstr\u001b[0m\u001b[0;34m(\u001b[0m\u001b[0mdomain_disabled_drivefs\u001b[0m\u001b[0;34m)\u001b[0m \u001b[0;34m+\u001b[0m\u001b[0;34m\u001b[0m\u001b[0;34m\u001b[0m\u001b[0m\n\u001b[0;32m--> 273\u001b[0;31m           ': https://support.google.com/a/answer/7496409')\n\u001b[0m\u001b[1;32m    274\u001b[0m   \u001b[0;32mif\u001b[0m \u001b[0;32mnot\u001b[0m \u001b[0mwrote_to_fifo\u001b[0m\u001b[0;34m:\u001b[0m\u001b[0;34m\u001b[0m\u001b[0;34m\u001b[0m\u001b[0m\n\u001b[1;32m    275\u001b[0m     \u001b[0;32mwith\u001b[0m \u001b[0mopen\u001b[0m\u001b[0;34m(\u001b[0m\u001b[0mfifo\u001b[0m\u001b[0;34m,\u001b[0m \u001b[0;34m'w'\u001b[0m\u001b[0;34m)\u001b[0m \u001b[0;32mas\u001b[0m \u001b[0mfifo_file\u001b[0m\u001b[0;34m:\u001b[0m\u001b[0;34m\u001b[0m\u001b[0;34m\u001b[0m\u001b[0m\n",
            "\u001b[0;31mValueError\u001b[0m: The domain policy has disabled Drive File Stream: https://support.google.com/a/answer/7496409"
          ]
        }
      ]
    },
    {
      "cell_type": "code",
      "metadata": {
        "colab": {
          "resources": {
            "http://localhost:8080/nbextensions/google.colab/files.js": {
              "data": "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",
              "ok": true,
              "headers": [
                [
                  "content-type",
                  "application/javascript"
                ]
              ],
              "status": 200,
              "status_text": "OK"
            }
          },
          "base_uri": "https://localhost:8080/",
          "height": 93
        },
        "id": "RFVqYdZhE78P",
        "outputId": "ae64b83b-64f4-4168-8a18-9970b7021f40"
      },
      "source": [
        "## this will work with NOAA but its tough to share/collaborate\n",
        "# because you have to upload a file each time you rerun it all\n",
        "\n",
        "from google.colab import files\n",
        "\n",
        "uploaded = files.upload()\n",
        "\n",
        "for fn in uploaded.keys():\n",
        "  print('User uploaded file \"{name}\" with length {length} bytes'.format(\n",
        "      name=fn, length=len(uploaded[fn])))"
      ],
      "execution_count": 3,
      "outputs": [
        {
          "output_type": "display_data",
          "data": {
            "text/html": [
              "\n",
              "     <input type=\"file\" id=\"files-c40c5b37-2e3c-4d22-8e36-72afaa47f10f\" name=\"files[]\" multiple disabled\n",
              "        style=\"border:none\" />\n",
              "     <output id=\"result-c40c5b37-2e3c-4d22-8e36-72afaa47f10f\">\n",
              "      Upload widget is only available when the cell has been executed in the\n",
              "      current browser session. Please rerun this cell to enable.\n",
              "      </output>\n",
              "      <script src=\"/nbextensions/google.colab/files.js\"></script> "
            ],
            "text/plain": [
              "<IPython.core.display.HTML object>"
            ]
          },
          "metadata": {
            "tags": []
          }
        },
        {
          "output_type": "stream",
          "text": [
            "Saving DY2103_sideopssummary.xlsx to DY2103_sideopssummary (3).xlsx\n",
            "User uploaded file \"DY2103_sideopssummary.xlsx\" with length 19957 bytes\n"
          ],
          "name": "stdout"
        }
      ]
    },
    {
      "cell_type": "code",
      "metadata": {
        "colab": {
          "base_uri": "https://localhost:8080/"
        },
        "id": "fRHY47pPFTKo",
        "outputId": "1ff8265b-382c-4d09-9b68-798ac7b834c4"
      },
      "source": [
        "uploaded.keys()"
      ],
      "execution_count": 4,
      "outputs": [
        {
          "output_type": "execute_result",
          "data": {
            "text/plain": [
              "dict_keys(['DY2103_sideopssummary.xlsx'])"
            ]
          },
          "metadata": {
            "tags": []
          },
          "execution_count": 4
        }
      ]
    },
    {
      "cell_type": "markdown",
      "metadata": {
        "id": "LF_ac2-jGCFt"
      },
      "source": [
        "So we have a file uploaded, lets ingest it and take a look at it"
      ]
    },
    {
      "cell_type": "code",
      "metadata": {
        "id": "52JwyqKlFh2z"
      },
      "source": [
        "#pandas is already pre-installed\n",
        "import pandas as pd"
      ],
      "execution_count": 5,
      "outputs": []
    },
    {
      "cell_type": "code",
      "metadata": {
        "id": "p0yGFzZUF--X"
      },
      "source": [
        "df = pd.read_excel(uploaded['DY2103_sideopssummary.xlsx'],sheet_name=0)"
      ],
      "execution_count": 38,
      "outputs": []
    },
    {
      "cell_type": "code",
      "metadata": {
        "colab": {
          "base_uri": "https://localhost:8080/",
          "height": 224
        },
        "id": "INYUvAkIGYFS",
        "outputId": "c12fa025-add6-407e-c0df-32b67c56264f"
      },
      "source": [
        "df.drop(index=[89,90],inplace=True) #becasue i know i have a summary line at the bottom of this excel page\n",
        "df.fillna(0,inplace=True)\n",
        "df.sample(5)"
      ],
      "execution_count": 39,
      "outputs": [
        {
          "output_type": "execute_result",
          "data": {
            "text/html": [
              "<div>\n",
              "<style scoped>\n",
              "    .dataframe tbody tr th:only-of-type {\n",
              "        vertical-align: middle;\n",
              "    }\n",
              "\n",
              "    .dataframe tbody tr th {\n",
              "        vertical-align: top;\n",
              "    }\n",
              "\n",
              "    .dataframe thead th {\n",
              "        text-align: right;\n",
              "    }\n",
              "</style>\n",
              "<table border=\"1\" class=\"dataframe\">\n",
              "  <thead>\n",
              "    <tr style=\"text-align: right;\">\n",
              "      <th></th>\n",
              "      <th>CTD #</th>\n",
              "      <th>Lat.</th>\n",
              "      <th></th>\n",
              "      <th>Lon.</th>\n",
              "      <th></th>\n",
              "      <th>Site</th>\n",
              "      <th>Station Number</th>\n",
              "      <th>No. of Nutrients</th>\n",
              "      <th>Sal. Samples</th>\n",
              "      <th>O2 Samples</th>\n",
              "      <th>Chl Samples</th>\n",
              "      <th>Number of DIC</th>\n",
              "      <th>Gann Sample</th>\n",
              "      <th>Abs. Sample</th>\n",
              "      <th>FCM Sample</th>\n",
              "      <th>Size Frac Chlor</th>\n",
              "      <th>Latitude</th>\n",
              "      <th>Longitude</th>\n",
              "      <th>Unnamed: 18</th>\n",
              "    </tr>\n",
              "  </thead>\n",
              "  <tbody>\n",
              "    <tr>\n",
              "      <th>12</th>\n",
              "      <td>CTD013</td>\n",
              "      <td>57.0</td>\n",
              "      <td>15.76</td>\n",
              "      <td>165.0</td>\n",
              "      <td>44.70</td>\n",
              "      <td>70M8</td>\n",
              "      <td>s13h1</td>\n",
              "      <td>7.0</td>\n",
              "      <td>0.0</td>\n",
              "      <td>1.0</td>\n",
              "      <td>6.0</td>\n",
              "      <td>0.0</td>\n",
              "      <td>1.0</td>\n",
              "      <td>0.0</td>\n",
              "      <td>1.0</td>\n",
              "      <td>1.0</td>\n",
              "      <td>57.262667</td>\n",
              "      <td>-165.745000</td>\n",
              "      <td>0</td>\n",
              "    </tr>\n",
              "    <tr>\n",
              "      <th>45</th>\n",
              "      <td>CTD045</td>\n",
              "      <td>59.0</td>\n",
              "      <td>53.83</td>\n",
              "      <td>172.0</td>\n",
              "      <td>10.44</td>\n",
              "      <td>M5W</td>\n",
              "      <td>s45h1</td>\n",
              "      <td>7.0</td>\n",
              "      <td>1.0</td>\n",
              "      <td>1.0</td>\n",
              "      <td>6.0</td>\n",
              "      <td>0.0</td>\n",
              "      <td>1.0</td>\n",
              "      <td>0.0</td>\n",
              "      <td>1.0</td>\n",
              "      <td>1.0</td>\n",
              "      <td>59.897167</td>\n",
              "      <td>-172.174000</td>\n",
              "      <td>0</td>\n",
              "    </tr>\n",
              "    <tr>\n",
              "      <th>14</th>\n",
              "      <td>CTD015</td>\n",
              "      <td>57.0</td>\n",
              "      <td>19.64</td>\n",
              "      <td>166.0</td>\n",
              "      <td>19.04</td>\n",
              "      <td>70M10</td>\n",
              "      <td>s15h1</td>\n",
              "      <td>7.0</td>\n",
              "      <td>1.0</td>\n",
              "      <td>1.0</td>\n",
              "      <td>6.0</td>\n",
              "      <td>0.0</td>\n",
              "      <td>0.0</td>\n",
              "      <td>0.0</td>\n",
              "      <td>1.0</td>\n",
              "      <td>1.0</td>\n",
              "      <td>57.327333</td>\n",
              "      <td>-166.317333</td>\n",
              "      <td>0</td>\n",
              "    </tr>\n",
              "    <tr>\n",
              "      <th>27</th>\n",
              "      <td>CTD027</td>\n",
              "      <td>57.0</td>\n",
              "      <td>51.88</td>\n",
              "      <td>168.0</td>\n",
              "      <td>53.48</td>\n",
              "      <td>M4C</td>\n",
              "      <td>s27h1</td>\n",
              "      <td>7.0</td>\n",
              "      <td>0.0</td>\n",
              "      <td>1.0</td>\n",
              "      <td>6.0</td>\n",
              "      <td>7.0</td>\n",
              "      <td>1.0</td>\n",
              "      <td>0.0</td>\n",
              "      <td>1.0</td>\n",
              "      <td>1.0</td>\n",
              "      <td>57.864667</td>\n",
              "      <td>-168.891333</td>\n",
              "      <td>0</td>\n",
              "    </tr>\n",
              "    <tr>\n",
              "      <th>3</th>\n",
              "      <td>CTD004</td>\n",
              "      <td>56.0</td>\n",
              "      <td>46.09</td>\n",
              "      <td>164.0</td>\n",
              "      <td>19.84</td>\n",
              "      <td>M2W</td>\n",
              "      <td>s4h1</td>\n",
              "      <td>7.0</td>\n",
              "      <td>0.0</td>\n",
              "      <td>1.0</td>\n",
              "      <td>6.0</td>\n",
              "      <td>0.0</td>\n",
              "      <td>1.0</td>\n",
              "      <td>0.0</td>\n",
              "      <td>1.0</td>\n",
              "      <td>1.0</td>\n",
              "      <td>56.768167</td>\n",
              "      <td>-164.330667</td>\n",
              "      <td>0</td>\n",
              "    </tr>\n",
              "  </tbody>\n",
              "</table>\n",
              "</div>"
            ],
            "text/plain": [
              "     CTD #  Lat.         ...   Latitude   Longitude Unnamed: 18\n",
              "12  CTD013  57.0  15.76  ...  57.262667 -165.745000           0\n",
              "45  CTD045  59.0  53.83  ...  59.897167 -172.174000           0\n",
              "14  CTD015  57.0  19.64  ...  57.327333 -166.317333           0\n",
              "27  CTD027  57.0  51.88  ...  57.864667 -168.891333           0\n",
              "3   CTD004  56.0  46.09  ...  56.768167 -164.330667           0\n",
              "\n",
              "[5 rows x 19 columns]"
            ]
          },
          "metadata": {
            "tags": []
          },
          "execution_count": 39
        }
      ]
    },
    {
      "cell_type": "code",
      "metadata": {
        "colab": {
          "base_uri": "https://localhost:8080/",
          "height": 542
        },
        "id": "Zg3FIielGh-M",
        "outputId": "9c32fc65-1172-4e71-998f-9bc9fab71d14"
      },
      "source": [
        "import plotly.express as px\n",
        "fig = px.scatter_geo(data_frame=df,lat='Latitude',lon='Longitude',hover_name=\"Site\",hover_data=[\"Station Number\",\"Sal. Samples\",\"O2 Samples\",\"Chl Samples\"])\n",
        "\n",
        "fig.update_layout(\n",
        "    title_text = 'DY2103 Cruise CTD Stations',\n",
        "    showlegend = False,\n",
        "    geo = dict(\n",
        "        resolution = 50,\n",
        "        showland = True,\n",
        "        showlakes = True,\n",
        "        landcolor = 'rgb(204, 204, 204)',\n",
        "        countrycolor = 'rgb(204, 204, 204)',\n",
        "        lakecolor = 'rgb(255, 255, 255)',\n",
        "        projection_type = \"equirectangular\",\n",
        "        coastlinewidth = 2,\n",
        "        lataxis = dict(\n",
        "            range = [50, 70],\n",
        "            showgrid = True,\n",
        "            dtick = 10\n",
        "        ),\n",
        "        lonaxis = dict(\n",
        "            range = [-180, -150],\n",
        "            showgrid = True,\n",
        "            dtick = 20\n",
        "        ),\n",
        "    )\n",
        ")\n",
        "fig.show()"
      ],
      "execution_count": 41,
      "outputs": [
        {
          "output_type": "display_data",
          "data": {
            "text/html": [
              "<html>\n",
              "<head><meta charset=\"utf-8\" /></head>\n",
              "<body>\n",
              "    <div>\n",
              "            <script src=\"https://cdnjs.cloudflare.com/ajax/libs/mathjax/2.7.5/MathJax.js?config=TeX-AMS-MML_SVG\"></script><script type=\"text/javascript\">if (window.MathJax) {MathJax.Hub.Config({SVG: {font: \"STIX-Web\"}});}</script>\n",
              "                <script type=\"text/javascript\">window.PlotlyConfig = {MathJaxConfig: 'local'};</script>\n",
              "        <script src=\"https://cdn.plot.ly/plotly-latest.min.js\"></script>    \n",
              "            <div id=\"744e3d7d-52b1-48b9-8700-5b2e524ce18b\" class=\"plotly-graph-div\" style=\"height:525px; width:100%;\"></div>\n",
              "            <script type=\"text/javascript\">\n",
              "                \n",
              "                    window.PLOTLYENV=window.PLOTLYENV || {};\n",
              "                    \n",
              "                if (document.getElementById(\"744e3d7d-52b1-48b9-8700-5b2e524ce18b\")) {\n",
              "                    Plotly.newPlot(\n",
              "                        '744e3d7d-52b1-48b9-8700-5b2e524ce18b',\n",
              "                        [{\"customdata\": [[\"s1h4\", 0.0, 0.0, 0.0], [\"s2h1\", 1.0, 1.0, 6.0], [\"s3h1\", 0.0, 1.0, 6.0], [\"s4h1\", 0.0, 1.0, 6.0], [\"s5h1\", 1.0, 1.0, 6.0], [\"s6h1\", 0.0, 1.0, 6.0], [\"s7h1\", 1.0, 7.0, 6.0], [\"s8h1\", 0.0, 1.0, 6.0], [\"s9h1\", 0.0, 1.0, 6.0], [\"s10h1\", 0.0, 1.0, 6.0], [\"s11h1\", 1.0, 1.0, 6.0], [\"s12h1\", 0.0, 1.0, 6.0], [\"s13h1\", 0.0, 1.0, 6.0], [\"s14h1\", 0.0, 1.0, 6.0], [\"s15h1\", 1.0, 1.0, 6.0], [\"s16h1\", 0.0, 1.0, 6.0], [0, 0.0, 0.0, 0.0], [\"s17h1\", 0.0, 1.0, 6.0], [\"s18h1\", 1.0, 1.0, 6.0], [\"s19h1\", 0.0, 1.0, 6.0], [\"s20h1\", 0.0, 1.0, 6.0], [\"s21h1\", 0.0, 1.0, 6.0], [\"s22h1\", 0.0, 1.0, 6.0], [\"s23h1\", 0.0, 1.0, 6.0], [\"s24h1\", 1.0, 1.0, 6.0], [\"s25h1\", 0.0, 1.0, 6.0], [\"s26h1\", 0.0, 1.0, 6.0], [\"s27h1\", 0.0, 1.0, 6.0], [\"s28h1\", 0.0, 1.0, 6.0], [\"s29h1\", 0.0, 1.0, 6.0], [\"s30h1\", 1.0, 0.0, 6.0], [\"s31h1\", 0.0, 1.0, 6.0], [\"s32h1\", 0.0, 1.0, 6.0], [\"s33h1\", 1.0, 1.0, 6.0], [\"s34h1\", 0.0, 1.0, 6.0], [\"s35h1\", 0.0, 1.0, 6.0], [\"s36h1\", 0.0, 1.0, 6.0], [\"s37h1\", 1.0, 1.0, 6.0], [\"s38h1\", 0.0, 2.0, 6.0], [\"s39h1\", 0.0, 1.0, 6.0], [\"s40h1\", 0.0, 1.0, 6.0], [\"s41h1\", 0.0, 1.0, 6.0], [\"s42h1\", 0.0, 1.0, 6.0], [\"s43h1\", 0.0, 1.0, 6.0], [\"s44h1\", 0.0, 1.0, 6.0], [\"s45h1\", 1.0, 1.0, 6.0], [\"s46h1\", 0.0, 1.0, 6.0], [\"s47h1\", 0.0, 1.0, 6.0], [\"s48h1\", 0.0, 1.0, 6.0], [\"s49h1\", 0.0, 1.0, 6.0], [\"s50h1\", 1.0, 1.0, 6.0], [\"s51h1\", 0.0, 1.0, 6.0], [\"s52h1\", 0.0, 1.0, 6.0], [\"s53h1\", 0.0, 1.0, 6.0], [\"s54h1\", 0.0, 1.0, 6.0], [\"s55h1\", 0.0, 0.0, 0.0], [\"s55h2\", 0.0, 2.0, 0.0], [\"s56h1\", 0.0, 0.0, 0.0], [\"s57h1\", 1.0, 1.0, 6.0], [\"s58h1\", 0.0, 2.0, 0.0], [\"s59h1\", 0.0, 0.0, 0.0], [\"s60h1\", 1.0, 1.0, 6.0], [\"s61h1\", 0.0, 1.0, 6.0], [\"s62h1\", 0.0, 1.0, 6.0], [\"s63h1\", 0.0, 1.0, 6.0], [\"s64h1\", 1.0, 1.0, 6.0], [\"s65h1\", 0.0, 1.0, 6.0], [\"s66h1\", 0.0, 1.0, 6.0], [\"s67h1\", 0.0, 1.0, 6.0], [\"s68h1\", 1.0, 11.0, 6.0], [\"s69h1\", 0.0, 1.0, 6.0], [\"s70h1\", 0.0, 1.0, 6.0], [\"s71h1\", 0.0, 1.0, 6.0], [\"s72h1\", 0.0, 1.0, 6.0], [\"s73h1\", 0.0, 1.0, 6.0], [\"s74h1\", 1.0, 1.0, 6.0], [\"s75h1\", 0.0, 1.0, 6.0], [\"s76h1\", 0.0, 1.0, 6.0], [\"s77h1\", 1.0, 1.0, 6.0], [\"s778h1\", 0.0, 1.0, 6.0], [\"s79h1\", 0.0, 1.0, 0.0], [\"s80h1\", 0.0, 1.0, 6.0], [\"s81h1\", 0.0, 1.0, 6.0], [\"s82h1\", 1.0, 1.0, 6.0], [\"s83h1\", 0.0, 0.0, 0.0], [\"s84h1\", 0.0, 0.0, 6.0], [\"s85h1\", 0.0, 0.0, 5.0], [\"s86h1\", 1.0, 0.0, 6.0], [\"s87h1\", 0.0, 0.0, 6.0]], \"geo\": \"geo\", \"hoverlabel\": {\"namelength\": 0}, \"hovertemplate\": \"<b>%{hovertext}</b><br><br>Station Number=%{customdata[0]}<br>Sal. Samples=%{customdata[1]}<br>O2 Samples=%{customdata[2]}<br>Chl Samples=%{customdata[3]}<br>Latitude=%{lat}<br>Longitude=%{lon}\", \"hovertext\": [\"\\\"TEST\\\"\", \"M2E\", \"M2N\", \"M2W\", \"M2S\", \"M2C\", \"M2C\", \"70M3\", \"70M4\", \"70M5\", \"70M6\", \"70M7\", \"70M8\", \"70M9\", \"70M10\", \"70M11\", \"70M12\", \"70M12\", \"70M13\", \"70M14\", \"70M15\", \"70M16\", \"70M17\", \"70M18\", \"70M4S\", \"70M4E\", \"70M4N\", \"M4C\", \"70M4W\", \"70M24\", \"70M25\", \"70M26\", \"70M27\", \"70M28\", \"70M29\", \"70M30\", \"70M31\", \"70M32\", \"70M33\", \"70M34\", \"70M35\", \"M5S\", \"M5E\", \"M5C\", \"M5N\", \"M5W\", \"70M41\", \"70M42\", \"70M43\", \"70M44\", \"70M45\", \"70M46\", \"70M47\", \"70M48\", \"70M49\", 0, 0, 0, \"70M50\", \"AL21_AU_BS10\", \"AL21_AU_UM\", \"UT3\", \"AW1\", \"AW2\", \"AW3\", \"AW4\", \"AW5\", \"AE5\", \"AE4\", \"AE3\", \"AE2\", \"AE1\", \"UBW1\", \"UBW2\", \"UBW3\", \"UBW4\", \"UBN1\", \"UBN2\", \"UBN3\", \"UBN4\", \"UBN5\", \"UBN6\", \"UBE1\", \"UBE2\", \"AL21_AU_UN01a\", \"UBS2\", \"UBS1\", \"UBS3\", \"UBS4\"], \"lat\": [54.52066666666666, 56.94083333333333, 57.01583333333333, 56.768166666666666, 56.666, 56.882666666666665, 56.87566666666667, 56.815666666666665, 56.913, 56.86233333333333, 56.998333333333335, 57.116, 57.26266666666667, 57.3235, 57.327333333333335, 57.43783333333333, 57.42933333333333, 57.42916666666667, 57.522333333333336, 57.502, 57.50333333333333, 57.50533333333333, 57.52, 57.5295, 57.652166666666666, 57.769, 58.067166666666665, 57.864666666666665, 57.9285, 58.042833333333334, 58.1415, 58.282666666666664, 58.44316666666667, 58.617333333333335, 58.77733333333333, 58.94983333333333, 59.109, 59.24783333333333, 59.3345, 59.437, 59.595166666666664, 59.702, 59.90083333333333, 59.92, 60.07266666666667, 59.897166666666664, 59.98083333333334, 60.03933333333333, 60.1065, 60.25533333333333, 60.428333333333335, 60.5715, 60.73833333333333, 60.909, 61.0675, 61.11633333333333, 61.117666666666665, 61.158166666666666, 61.251666666666665, 56.166666666666664, 53.63216666666667, 54.17733333333334, 54.0865, 54.143166666666666, 54.200833333333335, 54.32333333333333, 54.44866666666667, 54.560833333333335, 54.44016666666667, 54.302166666666665, 54.22833333333333, 54.1695, 54.35966666666667, 54.474666666666664, 54.586, 54.688833333333335, 54.75383333333333, 54.8155, 54.872, 54.93483333333333, 54.989, 55.050333333333334, 54.935, 54.82416666666667, 54.4355, 54.42433333333334, 54.451166666666666, 54.39533333333333, 54.337], \"legendgroup\": \"\", \"lon\": [-165.17366666666666, -163.84, -164.21683333333334, -164.33066666666667, -163.85833333333332, -164.075, -164.07266666666666, -164.58866666666665, -164.835, -165.12183333333334, -165.3755, -165.612, -165.745, -166.007, -166.31733333333332, -166.50883333333334, -166.81083333333333, -166.80966666666666, -167.03516666666667, -167.34216666666666, -167.66283333333334, -167.96966666666665, -168.29216666666667, -168.60933333333332, -169.01516666666666, -168.47483333333332, -168.72916666666666, -168.89133333333334, -169.31666666666666, -169.65633333333332, -169.91133333333335, -170.09266666666667, -170.18766666666667, -170.27933333333334, -170.29916666666668, -170.32666666666665, -170.244, -170.40516666666667, -170.65816666666666, -170.90633333333332, -170.92583333333334, -171.502, -171.24716666666666, -171.731, -172.00416666666666, -172.174, -172.74516666666668, -173.00366666666667, -173.30966666666666, -173.5105, -173.58366666666666, -173.64133333333334, -173.65, -173.82533333333333, -173.82833333333335, -173.8035, -173.8045, -173.7805, -173.73833333333334, -166.581, -167.39883333333333, -167.1475, -166.62116666666665, -166.64533333333333, -166.70566666666667, -166.821, -166.94, -166.5865, -166.47566666666665, -166.3415, -166.26016666666666, -166.2105, -165.9235, -166.04616666666666, -166.13883333333334, -166.23966666666666, -166.05116666666666, -165.86616666666666, -165.673, -165.485, -165.29266666666666, -165.11083333333335, -164.99683333333334, -164.8945, -165.27633333333333, -165.152, -164.99883333333332, -165.28166666666667, -165.427], \"marker\": {\"color\": \"#636efa\"}, \"name\": \"\", \"showlegend\": false, \"type\": \"scattergeo\"}],\n",
              "                        {\"geo\": {\"center\": {}, \"coastlinewidth\": 2, \"countrycolor\": \"rgb(204, 204, 204)\", \"domain\": {\"x\": [0.0, 1.0], \"y\": [0.0, 1.0]}, \"lakecolor\": \"rgb(255, 255, 255)\", \"landcolor\": \"rgb(204, 204, 204)\", \"lataxis\": {\"dtick\": 10, \"range\": [50, 70], \"showgrid\": true}, \"lonaxis\": {\"dtick\": 20, \"range\": [-180, -150], \"showgrid\": true}, \"projection\": {\"type\": \"equirectangular\"}, \"resolution\": 50, \"showlakes\": true, \"showland\": true}, \"legend\": {\"tracegroupgap\": 0}, \"margin\": {\"t\": 60}, \"showlegend\": false, \"template\": {\"data\": {\"bar\": [{\"error_x\": {\"color\": \"#2a3f5f\"}, \"error_y\": {\"color\": \"#2a3f5f\"}, \"marker\": {\"line\": {\"color\": \"#E5ECF6\", \"width\": 0.5}}, \"type\": \"bar\"}], \"barpolar\": [{\"marker\": {\"line\": {\"color\": \"#E5ECF6\", \"width\": 0.5}}, \"type\": \"barpolar\"}], \"carpet\": [{\"aaxis\": {\"endlinecolor\": \"#2a3f5f\", \"gridcolor\": \"white\", \"linecolor\": \"white\", \"minorgridcolor\": \"white\", \"startlinecolor\": \"#2a3f5f\"}, \"baxis\": {\"endlinecolor\": \"#2a3f5f\", \"gridcolor\": \"white\", \"linecolor\": \"white\", \"minorgridcolor\": \"white\", \"startlinecolor\": \"#2a3f5f\"}, \"type\": \"carpet\"}], \"choropleth\": [{\"colorbar\": {\"outlinewidth\": 0, \"ticks\": \"\"}, \"type\": \"choropleth\"}], \"contour\": [{\"colorbar\": {\"outlinewidth\": 0, \"ticks\": \"\"}, \"colorscale\": [[0.0, \"#0d0887\"], [0.1111111111111111, \"#46039f\"], [0.2222222222222222, \"#7201a8\"], [0.3333333333333333, \"#9c179e\"], [0.4444444444444444, \"#bd3786\"], [0.5555555555555556, \"#d8576b\"], [0.6666666666666666, \"#ed7953\"], [0.7777777777777778, \"#fb9f3a\"], [0.8888888888888888, \"#fdca26\"], [1.0, \"#f0f921\"]], \"type\": \"contour\"}], \"contourcarpet\": [{\"colorbar\": {\"outlinewidth\": 0, \"ticks\": \"\"}, \"type\": \"contourcarpet\"}], \"heatmap\": [{\"colorbar\": {\"outlinewidth\": 0, \"ticks\": \"\"}, \"colorscale\": [[0.0, \"#0d0887\"], [0.1111111111111111, \"#46039f\"], [0.2222222222222222, \"#7201a8\"], [0.3333333333333333, \"#9c179e\"], [0.4444444444444444, \"#bd3786\"], [0.5555555555555556, \"#d8576b\"], [0.6666666666666666, \"#ed7953\"], [0.7777777777777778, \"#fb9f3a\"], [0.8888888888888888, \"#fdca26\"], [1.0, \"#f0f921\"]], \"type\": \"heatmap\"}], \"heatmapgl\": [{\"colorbar\": {\"outlinewidth\": 0, \"ticks\": \"\"}, \"colorscale\": [[0.0, \"#0d0887\"], [0.1111111111111111, \"#46039f\"], [0.2222222222222222, \"#7201a8\"], [0.3333333333333333, \"#9c179e\"], [0.4444444444444444, \"#bd3786\"], [0.5555555555555556, \"#d8576b\"], [0.6666666666666666, \"#ed7953\"], [0.7777777777777778, \"#fb9f3a\"], [0.8888888888888888, \"#fdca26\"], [1.0, \"#f0f921\"]], \"type\": \"heatmapgl\"}], \"histogram\": [{\"marker\": {\"colorbar\": {\"outlinewidth\": 0, \"ticks\": \"\"}}, \"type\": \"histogram\"}], \"histogram2d\": [{\"colorbar\": {\"outlinewidth\": 0, \"ticks\": \"\"}, \"colorscale\": [[0.0, \"#0d0887\"], [0.1111111111111111, \"#46039f\"], [0.2222222222222222, \"#7201a8\"], [0.3333333333333333, \"#9c179e\"], [0.4444444444444444, \"#bd3786\"], [0.5555555555555556, \"#d8576b\"], [0.6666666666666666, \"#ed7953\"], [0.7777777777777778, \"#fb9f3a\"], [0.8888888888888888, \"#fdca26\"], [1.0, \"#f0f921\"]], \"type\": \"histogram2d\"}], \"histogram2dcontour\": [{\"colorbar\": {\"outlinewidth\": 0, \"ticks\": \"\"}, \"colorscale\": [[0.0, \"#0d0887\"], [0.1111111111111111, \"#46039f\"], [0.2222222222222222, \"#7201a8\"], [0.3333333333333333, \"#9c179e\"], [0.4444444444444444, \"#bd3786\"], [0.5555555555555556, \"#d8576b\"], [0.6666666666666666, \"#ed7953\"], [0.7777777777777778, \"#fb9f3a\"], [0.8888888888888888, \"#fdca26\"], [1.0, \"#f0f921\"]], \"type\": \"histogram2dcontour\"}], \"mesh3d\": [{\"colorbar\": {\"outlinewidth\": 0, \"ticks\": \"\"}, \"type\": \"mesh3d\"}], \"parcoords\": [{\"line\": {\"colorbar\": {\"outlinewidth\": 0, \"ticks\": \"\"}}, \"type\": \"parcoords\"}], \"pie\": [{\"automargin\": true, \"type\": \"pie\"}], \"scatter\": [{\"marker\": {\"colorbar\": {\"outlinewidth\": 0, \"ticks\": \"\"}}, \"type\": \"scatter\"}], \"scatter3d\": [{\"line\": {\"colorbar\": {\"outlinewidth\": 0, \"ticks\": \"\"}}, \"marker\": {\"colorbar\": {\"outlinewidth\": 0, \"ticks\": \"\"}}, \"type\": \"scatter3d\"}], \"scattercarpet\": [{\"marker\": {\"colorbar\": {\"outlinewidth\": 0, \"ticks\": \"\"}}, \"type\": \"scattercarpet\"}], \"scattergeo\": [{\"marker\": {\"colorbar\": {\"outlinewidth\": 0, \"ticks\": \"\"}}, \"type\": \"scattergeo\"}], \"scattergl\": [{\"marker\": {\"colorbar\": {\"outlinewidth\": 0, \"ticks\": \"\"}}, \"type\": \"scattergl\"}], \"scattermapbox\": [{\"marker\": {\"colorbar\": {\"outlinewidth\": 0, \"ticks\": \"\"}}, \"type\": \"scattermapbox\"}], \"scatterpolar\": [{\"marker\": {\"colorbar\": {\"outlinewidth\": 0, \"ticks\": \"\"}}, \"type\": \"scatterpolar\"}], \"scatterpolargl\": [{\"marker\": {\"colorbar\": {\"outlinewidth\": 0, \"ticks\": \"\"}}, \"type\": \"scatterpolargl\"}], \"scatterternary\": [{\"marker\": {\"colorbar\": {\"outlinewidth\": 0, \"ticks\": \"\"}}, \"type\": \"scatterternary\"}], \"surface\": [{\"colorbar\": {\"outlinewidth\": 0, \"ticks\": \"\"}, \"colorscale\": [[0.0, \"#0d0887\"], [0.1111111111111111, \"#46039f\"], [0.2222222222222222, \"#7201a8\"], [0.3333333333333333, \"#9c179e\"], [0.4444444444444444, \"#bd3786\"], [0.5555555555555556, \"#d8576b\"], [0.6666666666666666, \"#ed7953\"], [0.7777777777777778, \"#fb9f3a\"], [0.8888888888888888, \"#fdca26\"], [1.0, \"#f0f921\"]], \"type\": \"surface\"}], \"table\": [{\"cells\": {\"fill\": {\"color\": \"#EBF0F8\"}, \"line\": {\"color\": \"white\"}}, \"header\": {\"fill\": {\"color\": \"#C8D4E3\"}, \"line\": {\"color\": \"white\"}}, \"type\": \"table\"}]}, \"layout\": {\"annotationdefaults\": {\"arrowcolor\": \"#2a3f5f\", \"arrowhead\": 0, \"arrowwidth\": 1}, \"coloraxis\": {\"colorbar\": {\"outlinewidth\": 0, \"ticks\": \"\"}}, \"colorscale\": {\"diverging\": [[0, \"#8e0152\"], [0.1, \"#c51b7d\"], [0.2, \"#de77ae\"], [0.3, \"#f1b6da\"], [0.4, \"#fde0ef\"], [0.5, \"#f7f7f7\"], [0.6, \"#e6f5d0\"], [0.7, \"#b8e186\"], [0.8, \"#7fbc41\"], [0.9, \"#4d9221\"], [1, \"#276419\"]], \"sequential\": [[0.0, \"#0d0887\"], [0.1111111111111111, \"#46039f\"], [0.2222222222222222, \"#7201a8\"], [0.3333333333333333, \"#9c179e\"], [0.4444444444444444, \"#bd3786\"], [0.5555555555555556, \"#d8576b\"], [0.6666666666666666, \"#ed7953\"], [0.7777777777777778, \"#fb9f3a\"], [0.8888888888888888, \"#fdca26\"], [1.0, \"#f0f921\"]], \"sequentialminus\": [[0.0, \"#0d0887\"], [0.1111111111111111, \"#46039f\"], [0.2222222222222222, \"#7201a8\"], [0.3333333333333333, \"#9c179e\"], [0.4444444444444444, \"#bd3786\"], [0.5555555555555556, \"#d8576b\"], [0.6666666666666666, \"#ed7953\"], [0.7777777777777778, \"#fb9f3a\"], [0.8888888888888888, \"#fdca26\"], [1.0, \"#f0f921\"]]}, \"colorway\": [\"#636efa\", \"#EF553B\", \"#00cc96\", \"#ab63fa\", \"#FFA15A\", \"#19d3f3\", \"#FF6692\", \"#B6E880\", \"#FF97FF\", \"#FECB52\"], \"font\": {\"color\": \"#2a3f5f\"}, \"geo\": {\"bgcolor\": \"white\", \"lakecolor\": \"white\", \"landcolor\": \"#E5ECF6\", \"showlakes\": true, \"showland\": true, \"subunitcolor\": \"white\"}, \"hoverlabel\": {\"align\": \"left\"}, \"hovermode\": \"closest\", \"mapbox\": {\"style\": \"light\"}, \"paper_bgcolor\": \"white\", \"plot_bgcolor\": \"#E5ECF6\", \"polar\": {\"angularaxis\": {\"gridcolor\": \"white\", \"linecolor\": \"white\", \"ticks\": \"\"}, \"bgcolor\": \"#E5ECF6\", \"radialaxis\": {\"gridcolor\": \"white\", \"linecolor\": \"white\", \"ticks\": \"\"}}, \"scene\": {\"xaxis\": {\"backgroundcolor\": \"#E5ECF6\", \"gridcolor\": \"white\", \"gridwidth\": 2, \"linecolor\": \"white\", \"showbackground\": true, \"ticks\": \"\", \"zerolinecolor\": \"white\"}, \"yaxis\": {\"backgroundcolor\": \"#E5ECF6\", \"gridcolor\": \"white\", \"gridwidth\": 2, \"linecolor\": \"white\", \"showbackground\": true, \"ticks\": \"\", \"zerolinecolor\": \"white\"}, \"zaxis\": {\"backgroundcolor\": \"#E5ECF6\", \"gridcolor\": \"white\", \"gridwidth\": 2, \"linecolor\": \"white\", \"showbackground\": true, \"ticks\": \"\", \"zerolinecolor\": \"white\"}}, \"shapedefaults\": {\"line\": {\"color\": \"#2a3f5f\"}}, \"ternary\": {\"aaxis\": {\"gridcolor\": \"white\", \"linecolor\": \"white\", \"ticks\": \"\"}, \"baxis\": {\"gridcolor\": \"white\", \"linecolor\": \"white\", \"ticks\": \"\"}, \"bgcolor\": \"#E5ECF6\", \"caxis\": {\"gridcolor\": \"white\", \"linecolor\": \"white\", \"ticks\": \"\"}}, \"title\": {\"x\": 0.05}, \"xaxis\": {\"automargin\": true, \"gridcolor\": \"white\", \"linecolor\": \"white\", \"ticks\": \"\", \"title\": {\"standoff\": 15}, \"zerolinecolor\": \"white\", \"zerolinewidth\": 2}, \"yaxis\": {\"automargin\": true, \"gridcolor\": \"white\", \"linecolor\": \"white\", \"ticks\": \"\", \"title\": {\"standoff\": 15}, \"zerolinecolor\": \"white\", \"zerolinewidth\": 2}}}, \"title\": {\"text\": \"DY2103 Cruise CTD Stations\"}},\n",
              "                        {\"responsive\": true}\n",
              "                    ).then(function(){\n",
              "                            \n",
              "var gd = document.getElementById('744e3d7d-52b1-48b9-8700-5b2e524ce18b');\n",
              "var x = new MutationObserver(function (mutations, observer) {{\n",
              "        var display = window.getComputedStyle(gd).display;\n",
              "        if (!display || display === 'none') {{\n",
              "            console.log([gd, 'removed!']);\n",
              "            Plotly.purge(gd);\n",
              "            observer.disconnect();\n",
              "        }}\n",
              "}});\n",
              "\n",
              "// Listen for the removal of the full notebook cells\n",
              "var notebookContainer = gd.closest('#notebook-container');\n",
              "if (notebookContainer) {{\n",
              "    x.observe(notebookContainer, {childList: true});\n",
              "}}\n",
              "\n",
              "// Listen for the clearing of the current output cell\n",
              "var outputEl = gd.closest('.output');\n",
              "if (outputEl) {{\n",
              "    x.observe(outputEl, {childList: true});\n",
              "}}\n",
              "\n",
              "                        })\n",
              "                };\n",
              "                \n",
              "            </script>\n",
              "        </div>\n",
              "</body>\n",
              "</html>"
            ]
          },
          "metadata": {
            "tags": []
          }
        }
      ]
    },
    {
      "cell_type": "code",
      "metadata": {
        "id": "RjN1goyEK1HC"
      },
      "source": [
        ""
      ],
      "execution_count": null,
      "outputs": []
    },
    {
      "cell_type": "markdown",
      "metadata": {
        "id": "zEaT4iDBN8cb"
      },
      "source": [
        "## Now what if I want to share this with someone else?\n",
        "\n",
        "- If your data is publicly available, you could just invite them to the CoLab project (like a shared google doc)\n",
        "- If you just want them to see the results, you could host it on GitHub and link to that\n",
        "- you can also download the raw python or the notebook and share it that way"
      ]
    }
  ]
}