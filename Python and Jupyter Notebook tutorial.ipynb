{
 "cells": [
  {
   "attachments": {},
   "cell_type": "markdown",
   "metadata": {},
   "source": [
    "# Introduction to Python and Jupyter Notebooks"
   ]
  },
  {
   "attachments": {},
   "cell_type": "markdown",
   "metadata": {},
   "source": [
    "# A bit about Python\n",
    "\n",
    "1) Python is an interpreted language. This means it does not require a compiler to run (though some do exist). Some of the consequences of this are:\n",
    "> - Python runs slower than compiled languages like C++ and Java.\n",
    "> - Type checking is done at run time. This means that errors with using the wrong type will not occur until the code is run. These type errors can be found in testing, but if the code is rarely run (like for rare events), these errors can remain silent for long periods.\n",
    "\n",
    "2) Python, like most languages, starts indexing at 0. Excel and MatLab start at 1. This is important for indexing the correct value and off-by-one errors.\n",
    "\n",
    "3) Python is pass by reference. This means that passing data to a new variable, the reference to the data is passed rather than a copy of the data. Additional reading: https://robertheaton.com/2014/02/09/pythons-pass-by-object-reference-as-explained-by-philip-k-dick/"
   ]
  },
  {
   "cell_type": "code",
   "execution_count": 16,
   "metadata": {},
   "outputs": [
    {
     "name": "stdout",
     "output_type": "stream",
     "text": [
      "x is currently:  [1, 2, 3, 4]\n",
      "y is currently:  [1, 2, 3, 4]\n",
      "z is currently:  [1, 2, 3, 4]\n"
     ]
    }
   ],
   "source": [
    "from copy import copy, deepcopy\n",
    "\n",
    "x = [1, 2, 3, 4]\n",
    "print(\"x is currently: \", x)\n",
    "y = x\n",
    "print(\"y is currently: \", y)\n",
    "z = copy(x)\n",
    "print(\"z is currently: \", z)\n"
   ]
  },
  {
   "attachments": {},
   "cell_type": "markdown",
   "metadata": {},
   "source": [
    "We will now append the number 1 to y and change x[0] to 7"
   ]
  },
  {
   "cell_type": "code",
   "execution_count": 17,
   "metadata": {},
   "outputs": [
    {
     "name": "stdout",
     "output_type": "stream",
     "text": [
      "x is currently:  [7, 2, 3, 4, 1]\n",
      "y is currently:  [7, 2, 3, 4, 1]\n",
      "z is currently:  [1, 2, 3, 4]\n"
     ]
    }
   ],
   "source": [
    "y.append(1)\n",
    "x[0] = 7\n",
    "print(\"x is currently: \", x)\n",
    "print(\"y is currently: \", y)\n",
    "print(\"z is currently: \", z)\n"
   ]
  },
  {
   "attachments": {},
   "cell_type": "markdown",
   "metadata": {},
   "source": [
    "We will now append the number 2 to z and change z[3] to 42"
   ]
  },
  {
   "cell_type": "code",
   "execution_count": 18,
   "metadata": {},
   "outputs": [
    {
     "name": "stdout",
     "output_type": "stream",
     "text": [
      "x is currently:  [7, 2, 3, 4, 1]\n",
      "y is currently:  [7, 2, 3, 4, 1]\n",
      "z is currently:  [1, 2, 3, 42, 2]\n"
     ]
    }
   ],
   "source": [
    "z.append(2)\n",
    "z[3] = 42\n",
    "print(\"x is currently: \", x)\n",
    "print(\"y is currently: \", y)\n",
    "print(\"z is currently: \", z)\n"
   ]
  },
  {
   "attachments": {},
   "cell_type": "markdown",
   "metadata": {},
   "source": [
    "4) Python is object orientated. Nearly everything is considered an object in python, so everything will have class structure, attributes, and methods.\n",
    "> - An example can be seen in the .append(1) in one of the previous cells. This is a method call. So even one of the basic data types is an object.\n",
    "\n",
    "5) Python uses whitespace (tabs) to define control blocks. The body of for/while loops, if statements, functions, classes will all be indented relative to their call.\n",
    "\n",
    "6) Python is capitalization sensitive. x is not the same as X\n",
    "\n",
    "# Importing libraries\n",
    "There are a few options to import libraries.\n",
    "\n",
    "1) Import the entire library as is\n",
    "\n",
    "2) Import a portion of the library\n",
    "\n",
    "3) Use either above method with a pseudonym"
   ]
  },
  {
   "cell_type": "code",
   "execution_count": 19,
   "metadata": {},
   "outputs": [],
   "source": [
    "import numpy  # this imports the entire library\n",
    "from math import (\n",
    "    sin,\n",
    ")  # this imports only sin, the rest of the library remains unimported\n",
    "from math import (\n",
    "    cos as Adj_over_Hyp,\n",
    ")  # this imports only cos and renames its reference to Adj_over_Hyp\n"
   ]
  },
  {
   "cell_type": "code",
   "execution_count": 20,
   "metadata": {},
   "outputs": [
    {
     "name": "stdout",
     "output_type": "stream",
     "text": [
      "[1 2 3 4] \n",
      "\n",
      "[0.8414709848078965, 0.9092974268256817, 0.1411200080598672, -0.7568024953079283] \n",
      "\n",
      "[0.5403023058681398, -0.4161468365471424, -0.9899924966004454, -0.6536436208636119]\n"
     ]
    }
   ],
   "source": [
    "angle = numpy.array([1, 2, 3, 4])\n",
    "# note that we must use the library name followed by . then the part of the library we would like to use\n",
    "print(angle, \"\\n\")\n",
    "\n",
    "sin_of_angle = [sin(i) for i in angle]  # note that we use\n",
    "print(sin_of_angle, \"\\n\")\n",
    "\n",
    "cos_of_angle = [Adj_over_Hyp(i) for i in angle]\n",
    "print(cos_of_angle)\n"
   ]
  },
  {
   "attachments": {},
   "cell_type": "markdown",
   "metadata": {},
   "source": [
    "# Downloading Packages\n",
    "The benefit of Anaconda is it already has most of the packages you'll ever use. For the times when you need a new package, I suggest downloading it using anaconda prompt rather than through Jupyter Notebook. Here is a resource for how to download a package via anaconda prompt: https://docs.conda.io/projects/conda/en/latest/user-guide/tasks/manage-pkgs.html#:~:text=Use%20the%20terminal%20or%20an%20Anaconda%20Prompt%20for,myenv%2C%20the%20package%20installs%20into%20the%20current%20environment%3A"
   ]
  },
  {
   "attachments": {},
   "cell_type": "markdown",
   "metadata": {},
   "source": [
    "# Data Types\n",
    "There are 8 major data types that you will usually use:\n",
    "\n",
    "1) **Boolean (bool):** True/False, 1/0, Any number other than 0/False\n",
    "\n",
    "2) **integer (int):** mathematical integer (ex. 1, 2, 3, 4, ...)\n",
    "\n",
    "3) **float (float):** integer and non-integer real numbers (ex. 1., 1.0, 3.1415, etc.)\n",
    "\n",
    "4) **string (str):** a string of letters, numbers, special characters, etc. Strings are surrounded by apostropies (') or quotation marks (\").\n",
    "\n",
    "**A note about ordered/unordered:** for a structure that is ordered, you can expect a consistent ordering of the variables within. This is not true for an unordered structure.\n",
    "\n",
    "5) **set {set}:** an _unordered_ series of items. Each item must be unique and are immutable after they are added to the set. The set itself is mutable (can be added to/ removed from) and useful for some operations. https://www.programiz.com/python-programming/set\n",
    "\n",
    "6) **list [list]:** an _ordered_ series of items. The items need not be unique and are mutable.\n",
    "\n",
    "7) **dictionary {dict}:** an _unordered_ series of key: value pairs. Keys must be strings/numbers, values can be (nearly) anything. You can get a value from a dictionary by asking for its key (but not vice versa).\n",
    "\n",
    "8) **None/NaN:** Placeholder values that have no meaning and cannot be used for processing other than for testing for their existance (is this value a None/NaN?). None is general while NaN (or more specifically, float('nan')) is used for float values. Integer values have no NaN type. There are other specialized None types (ex. NaT - not a time)."
   ]
  },
  {
   "cell_type": "code",
   "execution_count": 21,
   "metadata": {},
   "outputs": [
    {
     "name": "stdout",
     "output_type": "stream",
     "text": [
      "True\n",
      "True\n",
      "False\n",
      "False\n",
      "True\n"
     ]
    }
   ],
   "source": [
    "# Boolean\n",
    "a = True\n",
    "b = False\n",
    "\n",
    "print(bool(1))\n",
    "\n",
    "print(bool(-3))\n",
    "\n",
    "print(bool(0))\n",
    "\n",
    "print(bool([]))\n",
    "\n",
    "print(bool([0]))\n"
   ]
  },
  {
   "cell_type": "code",
   "execution_count": 22,
   "metadata": {},
   "outputs": [
    {
     "name": "stdout",
     "output_type": "stream",
     "text": [
      "[False, False, True, False, False, False, True] \n",
      "\n",
      "[False, False, True, True, True, False, True]\n"
     ]
    }
   ],
   "source": [
    "# Boolean\n",
    "a = [0, 0.0, 1, 2, 3.0, False, True]\n",
    "\n",
    "b = [True if i == True else False for i in a]\n",
    "print(b, \"\\n\")\n",
    "\n",
    "c = [True if i else False for i in a]\n",
    "print(c)\n"
   ]
  },
  {
   "cell_type": "code",
   "execution_count": 23,
   "metadata": {},
   "outputs": [
    {
     "name": "stdout",
     "output_type": "stream",
     "text": [
      "1.75\n",
      "1\n",
      "2.0\n",
      "3\n",
      "2\n",
      "2\n",
      "1\n"
     ]
    }
   ],
   "source": [
    "import math\n",
    "\n",
    "# integers\n",
    "a = 4\n",
    "b = 7\n",
    "\n",
    "# regular division\n",
    "print(b / a)\n",
    "\n",
    "# integer division\n",
    "print(b // a)\n",
    "# doesn't work with floats\n",
    "print(3.7 // 1.3)\n",
    "\n",
    "# modulus (gives the remainder of division as an int)\n",
    "print(b % a)\n",
    "\n",
    "print(round(b / a))\n",
    "print(math.ceil(b / a))\n",
    "print(math.floor(b / a))\n"
   ]
  },
  {
   "cell_type": "code",
   "execution_count": 24,
   "metadata": {},
   "outputs": [
    {
     "name": "stdout",
     "output_type": "stream",
     "text": [
      "Union:  {1, 2, 3, 4, 5, 6, 7, 8}\n",
      "{1, 2, 3, 4, 5, 6, 7, 8} \n",
      "\n",
      "False\n",
      "True\n"
     ]
    }
   ],
   "source": [
    "# Set\n",
    "a = {1, 2, 3, 4}\n",
    "b = set([5, 6, 7, 8])\n",
    "\n",
    "# two options to concatenate these sets:\n",
    "print(\"Union: \", a | b)\n",
    "# or\n",
    "a.update(b)  # note, this changes a\n",
    "print(a, \"\\n\")\n",
    "\n",
    "# can check if an element is in a set using in or if statement:\n",
    "print(0 in a)\n",
    "if 1 in a:\n",
    "    print(True)\n"
   ]
  },
  {
   "cell_type": "code",
   "execution_count": 25,
   "metadata": {},
   "outputs": [
    {
     "name": "stdout",
     "output_type": "stream",
     "text": [
      "[1, 2, 3, 4]\n",
      "[1, 2, 3, 4, 1, 2, 3, 4]\n",
      "[[1, 2, 3], {4, 5, 6}, 'this is a string']\n",
      "1\n"
     ]
    }
   ],
   "source": [
    "# List\n",
    "a = [1, 2, 3, 4]\n",
    "b = list({1, 2, 3, 4})\n",
    "print(b)\n",
    "a += b\n",
    "\n",
    "print(a)\n",
    "\n",
    "c = [[1, 2, 3], {4, 5, 6}, \"this is a string\"]\n",
    "print(c)\n",
    "print(c[0][0])\n"
   ]
  },
  {
   "cell_type": "code",
   "execution_count": 26,
   "metadata": {},
   "outputs": [
    {
     "name": "stdout",
     "output_type": "stream",
     "text": [
      "<class 'list'>\n",
      "<class 'set'>\n"
     ]
    }
   ],
   "source": [
    "print(type(c))\n",
    "print(type(c[1]))\n"
   ]
  },
  {
   "cell_type": "code",
   "execution_count": 27,
   "metadata": {},
   "outputs": [
    {
     "name": "stdout",
     "output_type": "stream",
     "text": [
      "['a', 'b', 'c', ' ', 'd', 'e', 'f']\n",
      "['abc def']\n"
     ]
    }
   ],
   "source": [
    "# A note on the differences between list() and []\n",
    "x = \"abc def\"\n",
    "\n",
    "print(list(x))\n",
    "print([x])\n"
   ]
  },
  {
   "cell_type": "code",
   "execution_count": 28,
   "metadata": {},
   "outputs": [
    {
     "name": "stdout",
     "output_type": "stream",
     "text": [
      "[1, 2, 3, 4]\n",
      "[[1, 2, 3, 4]]\n"
     ]
    }
   ],
   "source": [
    "y = [1, 2, 3, 4]\n",
    "\n",
    "print(list(y))\n",
    "print([y])\n"
   ]
  },
  {
   "cell_type": "code",
   "execution_count": 29,
   "metadata": {},
   "outputs": [
    {
     "name": "stdout",
     "output_type": "stream",
     "text": [
      "{1: 'This', '2': 'is', 'three': ['the', 'number'], 4.67: 4} \n",
      "\n",
      "This\n",
      "4 \n",
      "\n",
      "dict_keys([1, '2', 'three', 4.67])\n",
      "dict_values(['This', 'is', ['the', 'number'], 4])\n",
      "dict_items([(1, 'This'), ('2', 'is'), ('three', ['the', 'number']), (4.67, 4)])\n"
     ]
    }
   ],
   "source": [
    "# Dictionary\n",
    "a = {1: \"This\", \"2\": \"is\", \"three\": [\"the\", \"number\"], 4.67: 4}\n",
    "print(a, \"\\n\")\n",
    "print(a[1])\n",
    "print(a[4.67], \"\\n\")\n",
    "\n",
    "b = a.keys()\n",
    "print(b)\n",
    "print(a.values())\n",
    "print(a.items())\n"
   ]
  },
  {
   "cell_type": "code",
   "execution_count": 30,
   "metadata": {},
   "outputs": [
    {
     "name": "stdout",
     "output_type": "stream",
     "text": [
      "False\n"
     ]
    },
    {
     "ename": "TypeError",
     "evalue": "'NoneType' object is not iterable",
     "output_type": "error",
     "traceback": [
      "\u001b[0;31m---------------------------------------------------------------------------\u001b[0m",
      "\u001b[0;31mTypeError\u001b[0m                                 Traceback (most recent call last)",
      "Cell \u001b[0;32mIn[30], line 8\u001b[0m\n\u001b[1;32m      6\u001b[0m c \u001b[39m=\u001b[39m np\u001b[39m.\u001b[39mnan\n\u001b[1;32m      7\u001b[0m \u001b[39mprint\u001b[39m(\u001b[39mbool\u001b[39m(a))\n\u001b[0;32m----> 8\u001b[0m \u001b[39mprint\u001b[39m(\u001b[39mlist\u001b[39;49m(a))\n\u001b[1;32m     10\u001b[0m a \u001b[39m+\u001b[39m\u001b[39m=\u001b[39m \u001b[39m1\u001b[39m\n",
      "\u001b[0;31mTypeError\u001b[0m: 'NoneType' object is not iterable"
     ]
    }
   ],
   "source": [
    "import numpy as np\n",
    "\n",
    "# None/NaN\n",
    "a = None\n",
    "b = float(\"nan\")\n",
    "c = np.nan\n",
    "print(bool(a))\n",
    "print(list(a))\n",
    "\n",
    "a += 1\n"
   ]
  },
  {
   "attachments": {},
   "cell_type": "markdown",
   "metadata": {},
   "source": [
    "# Indexing\n",
    "## Sets, lists, numpy arrays, etc.\n",
    "We can index into an element of a list by:\n",
    "\n",
    "x[index]\n",
    "\n",
    "If we want the values for a range we use a ':'\n",
    "\n",
    "x[:index] -> this will give us the first n elements of a list, up to, but not including, the indexth item\n",
    "\n",
    "x[index:] -> this will give the index element and all elements after.\n",
    "\n",
    "x[index_1:index_2] -> this will give us the elements starting with the first index up to, but not including, the second index\n",
    "\n",
    "### What if we want to start from the end of the list?\n",
    "Python has decided to use negative values to indicate starting from the end of the list.\n",
    "\n",
    "x[-1] -> This is the last element of the list\n",
    "\n",
    "x[:-2] -> This will give us the first n elements of a list, up to, but not including the second to last item\n",
    "\n",
    "x[-2:] -> This will give us the second to last element and all elements after.\n",
    "\n",
    "## Dictionaries\n",
    "We index a dictionary by its keys:\n",
    "\n",
    "x[key]\n",
    "\n",
    "### How would we index an item of a list that is within a list? How about an item in a list within a dictonary?"
   ]
  },
  {
   "cell_type": "code",
   "execution_count": 32,
   "metadata": {},
   "outputs": [
    {
     "name": "stdout",
     "output_type": "stream",
     "text": [
      "2\n"
     ]
    }
   ],
   "source": [
    "import numpy as np\n",
    "\n",
    "x = [[1, 2, 3], [4, 5, 6]]\n",
    "y = {\"i\": [1, 2, 3, 4], \"j\": [5, 6, 7, 8], \"k\": {\"a\": 9, \"b\": 10, \"c\": 11}}\n",
    "z = np.array(x)\n",
    "\n",
    "a = z[0][1]\n",
    "print(a)\n"
   ]
  },
  {
   "attachments": {},
   "cell_type": "markdown",
   "metadata": {},
   "source": [
    "# Date, Time, Datetime, and Timedelta\n",
    "Derived data types. As the names suggest, date deals only with dates, time only with times, and datetime with date and time together. Timedelta is a difference in time.\n",
    "\n",
    "These can have different formats depending on the package used, and these different formats cannot always be used together."
   ]
  },
  {
   "cell_type": "code",
   "execution_count": 33,
   "metadata": {},
   "outputs": [],
   "source": [
    "from datetime import date, time, datetime, timedelta\n"
   ]
  },
  {
   "cell_type": "code",
   "execution_count": 34,
   "metadata": {},
   "outputs": [
    {
     "name": "stdout",
     "output_type": "stream",
     "text": [
      "2000-01-01\n",
      "18:55:31\n",
      "2000-01-01 18:55:31\n",
      "1 day, 0:59:00\n"
     ]
    }
   ],
   "source": [
    "DATE = date(2000, 1, 1)\n",
    "print(DATE)\n",
    "\n",
    "TIME = time(18, 55, 31)\n",
    "print(TIME)\n",
    "\n",
    "DATETIME = datetime(2000, 1, 1, 18, 55, 31)\n",
    "print(DATETIME)\n",
    "\n",
    "TIMEDELTA = timedelta(days=1, minutes=59)\n",
    "print(TIMEDELTA)\n"
   ]
  },
  {
   "cell_type": "code",
   "execution_count": 35,
   "metadata": {},
   "outputs": [
    {
     "name": "stdout",
     "output_type": "stream",
     "text": [
      "1999-12-31 17:56:31\n"
     ]
    }
   ],
   "source": [
    "# Timedelta can be used to add or subtract from datetimes\n",
    "\n",
    "new_DATETIME = DATETIME - TIMEDELTA\n",
    "print(new_DATETIME)\n"
   ]
  },
  {
   "cell_type": "code",
   "execution_count": 36,
   "metadata": {},
   "outputs": [
    {
     "ename": "TypeError",
     "evalue": "unsupported operand type(s) for +: 'datetime.date' and 'datetime.datetime'",
     "output_type": "error",
     "traceback": [
      "\u001b[0;31m---------------------------------------------------------------------------\u001b[0m",
      "\u001b[0;31mTypeError\u001b[0m                                 Traceback (most recent call last)",
      "Cell \u001b[0;32mIn[36], line 2\u001b[0m\n\u001b[1;32m      1\u001b[0m \u001b[39m# different formats cannot always be added or subtracted\u001b[39;00m\n\u001b[0;32m----> 2\u001b[0m DATE \u001b[39m+\u001b[39;49m DATETIME\n\u001b[1;32m      4\u001b[0m DATE \u001b[39m+\u001b[39m TIME\n",
      "\u001b[0;31mTypeError\u001b[0m: unsupported operand type(s) for +: 'datetime.date' and 'datetime.datetime'"
     ]
    }
   ],
   "source": [
    "# different formats cannot always be added or subtracted\n",
    "DATE + DATETIME\n",
    "\n",
    "DATE + TIME\n"
   ]
  },
  {
   "cell_type": "code",
   "execution_count": 37,
   "metadata": {},
   "outputs": [
    {
     "name": "stdout",
     "output_type": "stream",
     "text": [
      "2005-02-25T03:30\n"
     ]
    }
   ],
   "source": [
    "numpy_dt = np.datetime64(\"2005-02-25T03:30\")\n",
    "print(numpy_dt)\n"
   ]
  },
  {
   "cell_type": "code",
   "execution_count": 38,
   "metadata": {},
   "outputs": [
    {
     "ename": "UFuncTypeError",
     "evalue": "ufunc 'add' cannot use operands with types dtype('<M8[m]') and dtype('O')",
     "output_type": "error",
     "traceback": [
      "\u001b[0;31m---------------------------------------------------------------------------\u001b[0m",
      "\u001b[0;31mUFuncTypeError\u001b[0m                            Traceback (most recent call last)",
      "Cell \u001b[0;32mIn[38], line 2\u001b[0m\n\u001b[1;32m      1\u001b[0m \u001b[39m# numpy datetimes and python datetimes do not synergize\u001b[39;00m\n\u001b[0;32m----> 2\u001b[0m numpy_dt \u001b[39m+\u001b[39;49m DATETIME\n",
      "\u001b[0;31mUFuncTypeError\u001b[0m: ufunc 'add' cannot use operands with types dtype('<M8[m]') and dtype('O')"
     ]
    }
   ],
   "source": [
    "# numpy datetimes and python datetimes do not synergize\n",
    "numpy_dt + DATETIME\n"
   ]
  },
  {
   "cell_type": "code",
   "execution_count": 39,
   "metadata": {},
   "outputs": [],
   "source": [
    "import pandas as pd\n"
   ]
  },
  {
   "cell_type": "code",
   "execution_count": 40,
   "metadata": {},
   "outputs": [
    {
     "name": "stdout",
     "output_type": "stream",
     "text": [
      "2005-02-25 03:30:00\n",
      "1881 days, 8:34:29\n",
      "<class 'datetime.timedelta'>\n"
     ]
    }
   ],
   "source": [
    "pd_dt = pd.Series(numpy_dt)\n",
    "pd_dt = pd_dt[0].to_pydatetime()\n",
    "print(pd_dt)\n",
    "\n",
    "difference = pd_dt - DATETIME\n",
    "print(difference)\n",
    "print(type(difference))\n"
   ]
  },
  {
   "attachments": {},
   "cell_type": "markdown",
   "metadata": {},
   "source": [
    "# Comparisons\n",
    "## If statements\n",
    "Uses the format:\n",
    "\n",
    "if condition 1:\n",
    "> body\n",
    "\n",
    "elif condition 2: (not required)\n",
    "> body\n",
    "\n",
    "else: (not required)\n",
    "> body\n",
    "\n",
    "## Comparitors and intersect/union\n",
    ">- **==**: equal to. Do not use with float values.\n",
    ">- **!=**: not equal to.\n",
    ">- **>, >=, <, <=**: greater than, greater or equal, less than, less or equal\n",
    ">- **in**: True if value in a array-like object, otherwise false\n",
    ">- **not in**: Negation of in\n",
    ">- **and**: intersect\n",
    ">- **&**: also intersect, but not as applicable as and\n",
    ">- **or**: union\n",
    ">- **|**: also union, but not as applicable as or\n",
    "\n",
    ">- **any()**: if any of the items in an array-like structure are true\n",
    ">- **all()**: if all of the items in an array-like structure are true\n",
    "\n",
    ">- **not**: negation\n",
    ">- **~**: negation, useful for numpy arrays\n",
    "\n",
    "### How do we check if there are no true values in a list?"
   ]
  },
  {
   "cell_type": "code",
   "execution_count": 41,
   "metadata": {},
   "outputs": [
    {
     "name": "stdout",
     "output_type": "stream",
     "text": [
      "False\n"
     ]
    }
   ],
   "source": [
    "x = [True, True, True, True]\n",
    "y = [False, False, False, False]\n",
    "z = [True, False, False, True]\n",
    "\n",
    "a = [0, 1, 2, 3, 4]\n",
    "print(all(a))\n",
    "# print(5 in a)\n",
    "\n",
    "# if not any(y):\n",
    "#     print(True)\n",
    "# else:\n",
    "#     print(False)\n"
   ]
  },
  {
   "attachments": {},
   "cell_type": "markdown",
   "metadata": {},
   "source": [
    "### How do we check if an element exists?"
   ]
  },
  {
   "cell_type": "code",
   "execution_count": 42,
   "metadata": {},
   "outputs": [
    {
     "name": "stdout",
     "output_type": "stream",
     "text": [
      "True\n"
     ]
    }
   ],
   "source": [
    "x = True\n",
    "y = 0\n",
    "z = None\n",
    "\n",
    "if x:\n",
    "    print(True)\n",
    "else:\n",
    "    False\n"
   ]
  },
  {
   "attachments": {},
   "cell_type": "markdown",
   "metadata": {},
   "source": [
    "# for/while loops\n",
    "## for loops\n",
    "Iterate a set number of times. This can be either a set number (ex. 4) or for each item in an array-like object. (ex. [42, 17, 19, 27, ...])\n",
    "\n",
    "Format:\n",
    "\n",
    "x = [42, 17, 19, 27, ...]\n",
    "\n",
    "for i in range(10):\n",
    "> body\n",
    "\n",
    "> use x[i] to index x\n",
    "\n",
    "or\n",
    "\n",
    "for i in x:\n",
    "> body\n",
    "\n",
    "> i is now the element of x\n",
    "\n",
    "### range(...)\n",
    "range(...) is how you'll loop a set number of times.\n",
    "\n",
    "## while loops\n",
    "Continue to loop while a condition is true. Note that because the number of loops is not set in the while section, this is where you can most often run into infinite loops!!!\n",
    "\n",
    "Format:\n",
    "\n",
    "i = 0\n",
    "\n",
    "while i < 7:\n",
    "> body\n",
    "\n",
    "> i += 1 # This is important\n",
    "\n",
    "or\n",
    "\n",
    "while TRUE:\n",
    "> body\n",
    "\n",
    "> if *some_condition*:\n",
    "\n",
    ">        break\n",
    "\n",
    "### Given a list, how do we square each element?"
   ]
  },
  {
   "cell_type": "code",
   "execution_count": 43,
   "metadata": {},
   "outputs": [
    {
     "name": "stdout",
     "output_type": "stream",
     "text": [
      "[1, 2, 9, 4, 25, 6, 49, 8, 81, 10]\n"
     ]
    }
   ],
   "source": [
    "x = [1, 2, 3, 4, 5, 6, 7, 8, 9, 10]\n",
    "\n",
    "for i in range(len(x)):\n",
    "    if i % 2 == 0:\n",
    "        x[i] = x[i] ** 2\n",
    "\n",
    "print(x)\n"
   ]
  },
  {
   "attachments": {},
   "cell_type": "markdown",
   "metadata": {},
   "source": [
    "### Given two lists, how do we multiply each element of the first list by the corresponding element of the second and put that into a third list?"
   ]
  },
  {
   "cell_type": "code",
   "execution_count": 44,
   "metadata": {},
   "outputs": [
    {
     "name": "stdout",
     "output_type": "stream",
     "text": [
      "[9, 16, 21, 24, 25, 24, 21, 16, 9, 0]\n"
     ]
    }
   ],
   "source": [
    "x = [1, 2, 3, 4, 5, 6, 7, 8, 9, 10]\n",
    "y = [9, 8, 7, 6, 5, 4, 3, 2, 1, 0]\n",
    "\n",
    "# initialize a new list\n",
    "z = []\n",
    "\n",
    "# go through each element of both lists and multiply the values\n",
    "for i in range(len(x)):\n",
    "    # put the new value into the new list\n",
    "    z.append(x[i] * y[i])\n",
    "\n",
    "print(z)\n"
   ]
  },
  {
   "attachments": {},
   "cell_type": "markdown",
   "metadata": {},
   "source": [
    "### Given the function:\n",
    "$x_{i+1} = x_{i} - 0.25 * x_{i} $\n",
    "\n",
    "How to write equations in markdowns: https://medium.com/analytics-vidhya/writing-math-equations-in-jupyter-notebook-a-naive-introduction-a5ce87b9a214\n",
    "\n",
    "### How many iterations do we need for x to be less than 1?"
   ]
  },
  {
   "cell_type": "code",
   "execution_count": 45,
   "metadata": {},
   "outputs": [
    {
     "name": "stdout",
     "output_type": "stream",
     "text": [
      "12\n"
     ]
    }
   ],
   "source": [
    "x = 25.0\n",
    "\n",
    "# both the live code and commented code work\n",
    "\n",
    "# i = x\n",
    "# count = 0\n",
    "# while i > 1:\n",
    "#     count += 1\n",
    "#     i = i - 0.25 * i\n",
    "# print(count)\n",
    "\n",
    "i = x\n",
    "count = 0\n",
    "a = True\n",
    "while a:\n",
    "    i -= 0.25 * i\n",
    "    count += 1\n",
    "    if i < 1:\n",
    "        a = False\n",
    "\n",
    "print(count)\n"
   ]
  },
  {
   "attachments": {},
   "cell_type": "markdown",
   "metadata": {},
   "source": [
    "# Functions\n",
    "Structure\n",
    "\n",
    "def function_name(variables):\n",
    ">- body\n",
    ">- return variable(s)_to_return\n",
    "\n",
    "## Scope\n",
    "A function should only know what it is given. **NEVER** reference a variable that exists outside a function unless it was given as an input!!!!\n",
    "\n",
    "Variables that are defined within the function only exist in the function.\n",
    "\n",
    "## Variables\n",
    "The order is:\n",
    "1) variables without default: ex. x, y, sst\n",
    "\n",
    "2) variables with defaults: ex. x=1, y=[2, 3, 4], sst={}\n",
    "\n",
    "### Example: multiply a sum of two numbers by a value. Assume one value will have an expected normal value."
   ]
  },
  {
   "cell_type": "code",
   "execution_count": 46,
   "metadata": {},
   "outputs": [
    {
     "name": "stdout",
     "output_type": "stream",
     "text": [
      "3\n",
      "\n",
      "\n",
      "8\n",
      "3\n"
     ]
    }
   ],
   "source": [
    "def sum_two_numbers(number_1, number_2=2):\n",
    "    x = number_1 + number_2\n",
    "    return x\n",
    "\n",
    "\n",
    "a = 1\n",
    "b = 2\n",
    "c = 3\n",
    "print(sum_two_numbers(a, b))\n",
    "print(\"\\n\")\n",
    "print(sum_two_numbers(1, 7))\n",
    "print(c)\n"
   ]
  },
  {
   "attachments": {},
   "cell_type": "markdown",
   "metadata": {},
   "source": [
    "## \\*args, \\*\\*kwargs\n",
    "\\*args is used when a variable (unknown) number of non-named items will be supplied to a function.\n",
    "\n",
    "\\*\\*kwards is used when a variable (unknown) number of named items will be supplied to a function.\n",
    "\n",
    "https://www.geeksforgeeks.org/args-kwargs-python/"
   ]
  },
  {
   "cell_type": "code",
   "execution_count": 47,
   "metadata": {},
   "outputs": [
    {
     "name": "stdout",
     "output_type": "stream",
     "text": [
      "1\n",
      "\n",
      "\n",
      "51\n"
     ]
    }
   ],
   "source": [
    "def simple_args_example(*args):\n",
    "    sum_of_numbers = 0\n",
    "    for i in args:\n",
    "        sum_of_numbers += i\n",
    "    return sum_of_numbers\n",
    "\n",
    "\n",
    "print(simple_args_example(1))\n",
    "print(\"\\n\")\n",
    "print(simple_args_example(1, 2, 3, 4, 5, 8, 28))\n",
    "args = [1, 2, 3, 4, 5, 8, 28]\n"
   ]
  },
  {
   "cell_type": "code",
   "execution_count": 48,
   "metadata": {},
   "outputs": [
    {
     "name": "stdout",
     "output_type": "stream",
     "text": [
      "{'Adam': 'A', 'Amelia': 'C'}\n",
      "The key is Adam and the value is A\n",
      "The key is Amelia and the value is C\n",
      "\n",
      "\n",
      "{'Adam': 'A', 'Amy': 'A', 'Amelia': 'C', 'Andrew': 'D'}\n",
      "The key is Adam and the value is A\n",
      "The key is Amy and the value is A\n",
      "The key is Amelia and the value is C\n",
      "The key is Andrew and the value is D\n"
     ]
    }
   ],
   "source": [
    "def simple_kwargs_example(**kwargs):\n",
    "    print(kwargs)\n",
    "    for key, value in kwargs.items():\n",
    "        print(f\"The key is {key} and the value is {value}\")\n",
    "\n",
    "\n",
    "simple_kwargs_example(Adam=\"A\", Amelia=\"C\")\n",
    "print(\"\\n\")\n",
    "simple_kwargs_example(Adam=\"A\", Amy=\"A\", Amelia=\"C\", Andrew=\"D\")\n"
   ]
  },
  {
   "attachments": {},
   "cell_type": "markdown",
   "metadata": {},
   "source": [
    "### Let's say we have a list of raw chlorophyll voltages which need to be converted. Write a function to do so.\n",
    "The conversion equation is:\n",
    "\n",
    "$chlorophyll = scale factor (voltage - dark count)$\n",
    "\n",
    "We also have a global correction factor which halves the chlorophyll value from the equation above. We want our function's default mode to make this correction, but we should be able to exclude the correction if necessary."
   ]
  },
  {
   "cell_type": "code",
   "execution_count": 49,
   "metadata": {},
   "outputs": [
    {
     "name": "stdout",
     "output_type": "stream",
     "text": [
      "[0.09, 0.54, 0.99, 1.44]\n",
      "[0.18, 1.08, 1.98, 2.88]\n"
     ]
    }
   ],
   "source": [
    "x = [0.1, 0.2, 0.3, 0.4]\n",
    "scale_factor = 9\n",
    "dark_count = 0.08\n",
    "\n",
    "\n",
    "def chlorophyll_volts_to_mgL(\n",
    "    voltages, scale_factor, dark_count, global_correction=True\n",
    "):\n",
    "    \"\"\"\n",
    "    converts chlorophyll volts to ug/l\n",
    "\n",
    "    parameters:\n",
    "    voltages: (iterable) a list of voltages\n",
    "    scale_factor: (float)\n",
    "\n",
    "    output:\n",
    "    converted_chl: (list)\n",
    "    \"\"\"\n",
    "    converted_chl = []\n",
    "\n",
    "    for volt in voltages:\n",
    "        if global_correction is True:\n",
    "            chl = round(scale_factor * (volt - dark_count) / 2.0, 3)\n",
    "            converted_chl.append(chl)\n",
    "        else:\n",
    "            chl = round(scale_factor * (volt - dark_count), 3)\n",
    "            converted_chl.append(chl)\n",
    "\n",
    "    return converted_chl\n",
    "\n",
    "\n",
    "print(chlorophyll_volts_to_mgL(x, scale_factor, dark_count))\n",
    "print(chlorophyll_volts_to_mgL(x, scale_factor, dark_count, False))\n"
   ]
  },
  {
   "attachments": {},
   "cell_type": "markdown",
   "metadata": {},
   "source": [
    "# Lambda Functions, List Comprehension, Dictionary Comprehension\n",
    "These are specialty structures that allow a combination of for loop(s) and if statements that can occur in one line.\n",
    "\n",
    "## Lambda\n",
    "https://realpython.com/python-lambda/#:~:text=%20In%20particular%2C%20a%20lambda%20function%20has%20the,It%20can%20be%20immediately%20invoked%20%28IIFE%29.%20More%20\n",
    "\n",
    "Lambda format:\n",
    "\n",
    "lambda variable(s): function\n",
    ">- ex. lambda x: x + 2\n",
    "\n",
    "How to call:"
   ]
  },
  {
   "cell_type": "code",
   "execution_count": 50,
   "metadata": {},
   "outputs": [
    {
     "name": "stdout",
     "output_type": "stream",
     "text": [
      "4\n",
      "[3, 4, 5, 6]\n"
     ]
    }
   ],
   "source": [
    "a = lambda x: x + 2\n",
    "\n",
    "x = a(2)\n",
    "print(x)\n",
    "\n",
    "# note this doesn't work\n",
    "# y = a(1, 2, 3, 4)\n",
    "# print(y)\n",
    "\n",
    "# we would need a more complicated lambda function\n",
    "# (I don't suggest using this, a function or list comprehension would be preferable)\n",
    "b = lambda x: list(map(lambda n: n + 2, x))\n",
    "y = b([1, 2, 3, 4])\n",
    "print(y)\n"
   ]
  },
  {
   "attachments": {},
   "cell_type": "markdown",
   "metadata": {},
   "source": [
    "## List comprehension\n",
    "Within a set of brackets, you can use the **for** keyword to iterate over a set of values. You can simultaneously perform mathematical manipulations and/or select data using **if** statements.\n",
    "\n",
    "https://www.programiz.com/python-programming/list-comprehension"
   ]
  },
  {
   "cell_type": "code",
   "execution_count": 51,
   "metadata": {},
   "outputs": [
    {
     "name": "stdout",
     "output_type": "stream",
     "text": [
      "[3, 4, 5, 6, 4]\n",
      "[3, 4, 4, 5, 4]\n",
      "[1, 2, 2]\n"
     ]
    }
   ],
   "source": [
    "a = [1, 2, 3, 4, 2]\n",
    "\n",
    "# Same thing as the lambda function above, but applied to a list\n",
    "y = [i + 2 for i in a]\n",
    "\n",
    "# y = []\n",
    "# for i in a:\n",
    "#     if i < 3:\n",
    "#         x = i\n",
    "#     y.append(x)\n",
    "print(y)\n",
    "\n",
    "# Adjust our addition depending on the value of the item.\n",
    "# Note the format: the if/else (both required) statement comes before the for statement\n",
    "y = [i + 2 if i < 3 else i + 1 for i in a]\n",
    "print(y)\n",
    "\n",
    "# Only select items which meet a criteria. Note that the if statement comes after the for statement and has no else.\n",
    "# Also note here that the list size may not be the same as the original list.\n",
    "z = [i for i in a if i < 3]\n",
    "print(z)\n"
   ]
  },
  {
   "attachments": {},
   "cell_type": "markdown",
   "metadata": {},
   "source": [
    "## Dictionary comprehension\n",
    "Similar style to list comprehension, but requires both key and value to be defined.\n",
    "\n",
    "https://www.datacamp.com/community/tutorials/python-dictionary-comprehension"
   ]
  },
  {
   "cell_type": "code",
   "execution_count": 52,
   "metadata": {},
   "outputs": [
    {
     "name": "stdout",
     "output_type": "stream",
     "text": [
      "[('Adam', 'A'), ('Amy', 'A'), ('Amelia', 'C'), ('Andrew', 'D')] \n",
      "\n",
      "{'Adam': 'A', 'Amy': 'A', 'Amelia': 'C', 'Andrew': 'D'}\n",
      "{'Adam': 'A', 'Amy': 'A', 'Amelia': 'incomplete', 'Andrew': 'D'}\n",
      "{'Adam': 'A', 'Amy': 'A', 'Amelia': 'incomplete', 'Andrew': 'D'}\n"
     ]
    }
   ],
   "source": [
    "student_names = [\"Adam\", \"Amy\", \"Amelia\", \"Andrew\"]\n",
    "grades = [\"A\", \"A\", \"C\", \"D\"]\n",
    "is_class_complete = [True, True, False, True]\n",
    "\n",
    "print(list(zip(student_names, grades)), \"\\n\")\n",
    "\n",
    "name_and_grade = {key: value for key, value in zip(student_names, grades)}\n",
    "print(name_and_grade)\n",
    "\n",
    "name_and_complete_grade = {\n",
    "    k: v if complete == True else \"incomplete\"\n",
    "    for k, v, complete in zip(student_names, grades, is_class_complete)\n",
    "}\n",
    "print(name_and_complete_grade)\n",
    "\n",
    "y = {}\n",
    "for student, grade, iscomplete in zip(student_names, grades, is_class_complete):\n",
    "    assert len(student_names) == len(grades) == len(is_class_complete)\n",
    "    if iscomplete == True:\n",
    "        y[student] = grade\n",
    "    else:\n",
    "        y[student] = \"incomplete\"\n",
    "\n",
    "print(y)\n"
   ]
  },
  {
   "attachments": {},
   "cell_type": "markdown",
   "metadata": {},
   "source": [
    "The following suggestions will make your life easier in the long run.\n",
    "\n",
    "# Naming Conventions\n",
    "1) **Be descriptive and explicit.** There is a big difference between *x* and *xco2_sw*. You are not likely to be the only one who reads your code. Even if you are, what happens when you come back after a few months? Having good names for your variables, functions, classes will make it easier to understand what is going on in your and other's code. Also, most IDEs have autofill, so long names do not take long to write.\n",
    "\n",
    "2) **Be consistent with your naming conventions.**\n",
    "\n",
    "3) **Replace spaces with underscores.** Variable and function names cannot handle spaces, '-', so underscores are the typical way to go.\n",
    "\n",
    "4) **Capitalization.** Generally, only class names get to be capitalized. Everything else is lower case. (This is not required, but some IDEs will tell you when you're breaking convention)\n",
    "\n",
    "# Function suggestions\n",
    "If you find yourself writing the same piece of code multiple times, it's time to put it into a function. The reasoning here is simple. Imagine you've written a piece of code that occurs 6 times. If you want to change anything about that piece of code, you have to change it 6 times. Not only is this time consuming, but the likeliness that you will miss one is high.\n",
    "1) **Limit the scope of the function.** A function should only do one thing! If you find your function is doing too much, break it up into smaller function and precompute some variables or have internal function calls.\n",
    "\n",
    "2) **Limit the length of functions.** A function should never be more than a screen length long. I try to not go over 40 lines of actual code (excluding comments and whitespace). I would prefer even shorter.\n",
    "\n",
    "3) **Limit the number of input variables.** If you find yourself using more than about 4 varaibles, then your function is likely doing more than one thing. This is a little different for classes, which have internal methods.\n",
    "\n",
    "4) **Do not allow side effects!** Side effects are when you permanently change an external variable when that is not the stated purpose of the function.\n",
    "\n",
    "# Other suggestions\n",
    "1) **Use spaces liberally.** For example, it is easier to read *x + y = 1* than *x+y=1*, especially when formulas get long.\n",
    "\n",
    "2) **Keep lines of code relatively short.** A line should never go off the page...\n",
    "\n",
    "3) **Try to prevent nesting.** Rewrite/break up code into functions if it starts to look like this:\n",
    ">        for ...\n",
    ">            if ...\n",
    ">                if ...\n",
    ">                    for ...\n",
    "\n",
    "4) **Expect to rewrite code.** Even top programmers expect to toss their first rendition of code. I normally will write out the process to get the code working, then rewrite it into functional/class format."
   ]
  },
  {
   "cell_type": "code",
   "execution_count": null,
   "metadata": {},
   "outputs": [],
   "source": []
  }
 ],
 "metadata": {
  "kernelspec": {
   "display_name": "Python 3 (ipykernel)",
   "language": "python",
   "name": "python3"
  },
  "language_info": {
   "codemirror_mode": {
    "name": "ipython",
    "version": 3
   },
   "file_extension": ".py",
   "mimetype": "text/x-python",
   "name": "python",
   "nbconvert_exporter": "python",
   "pygments_lexer": "ipython3",
   "version": "3.11.6"
  }
 },
 "nbformat": 4,
 "nbformat_minor": 2
}
